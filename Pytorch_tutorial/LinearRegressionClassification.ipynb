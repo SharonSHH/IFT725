{
 "cells": [
  {
   "cell_type": "markdown",
   "metadata": {},
   "source": [
    "## 3.2.2 Linear regression\n",
    "\n"
   ]
  },
  {
   "cell_type": "markdown",
   "metadata": {},
   "source": [
    "###  Create model, compute loss, and optimize the parameters  \n",
    "\n",
    "1. 所有的层结构和损失函数，都来自torch.nn；因此，所有的模型构建都是从nn.Module继承的。  \n",
    "2. torch.optim，通过修改参数，使得loss function最小化。  \n",
    "    一阶优化算法：  \n",
    "    $$\\theta = \\theta - \\eta * \\frac {\\partial J(\\theta)}{\\partial \\theta}$$  \n",
    "    $\\eta $ is learning rate. $\\frac {\\partial J(\\theta)}{\\partial \\theta}$ is the gradient of the function J.  \n",
    "   We can use torch.optim:   \n",
    "   e.g optimizer = torch.optim.SGD(model.parameters(), lr=0.01, momentum=0.9)   \n",
    "3. torch.save \n",
    "    1. save the constructure of the model and parameters---save model.  \n",
    "      torch.save(model, './model.pth')\n",
    "    \n",
    "    2. save the states of the model.  \n",
    "      torch.save(model.state_dict(), './model_state.pth'  \n",
    "\n",
    "4. torch.load\n",
    "    1. load the constructure of the model and parameters.   \n",
    "         load_model = torch.load('model.pth')\n",
    "     \n",
    "    2. load the states of the model.   \n",
    "         load_model = model.load_state_dic(torch.load('model_state.pth')\n",
    "    \n",
    " "
   ]
  },
  {
   "cell_type": "markdown",
   "metadata": {},
   "source": [
    "$$ f(x) = wx + b $$"
   ]
  },
  {
   "cell_type": "code",
   "execution_count": 1,
   "metadata": {},
   "outputs": [],
   "source": [
    "import numpy as np\n",
    "import pandas as pd\n",
    "import matplotlib.pyplot as plt\n",
    "import torch"
   ]
  },
  {
   "cell_type": "code",
   "execution_count": 2,
   "metadata": {},
   "outputs": [
    {
     "name": "stdout",
     "output_type": "stream",
     "text": [
      "tensor([[2.3000],\n",
      "        [3.3000],\n",
      "        [4.4000],\n",
      "        [5.5000],\n",
      "        [6.7000],\n",
      "        [3.1000]])\n"
     ]
    }
   ],
   "source": [
    "x = np.array([[2.3],[3.3],[4.4],[5.5],[6.7],[3.1]], dtype=np.float32)\n",
    "y = np.array([[0.9],[1.7],[2.76],[2.09],[3.19],[1.3]], dtype=np.float32)\n",
    "\n",
    "# convert numpy to tensor\n",
    "x = torch.from_numpy(x)\n",
    "y = torch.from_numpy(y)\n",
    "print(x)"
   ]
  },
  {
   "cell_type": "code",
   "execution_count": 3,
   "metadata": {},
   "outputs": [],
   "source": [
    "import torch.nn as nn\n",
    "\n",
    "class LinearRegression(nn.Module):\n",
    "    def __init__(self):\n",
    "        super(LinearRegression, self).__init__()\n",
    "        self.Linear = nn.Linear(1, 1)\n",
    "        \n",
    "    def forward(self, x):\n",
    "        output = self.Linear(x)\n",
    "        return output\n",
    "\n",
    "if torch.cuda.is_available():\n",
    "    model = LinearRegression().cuda()\n",
    "else:\n",
    "    model = LinearRegression()"
   ]
  },
  {
   "cell_type": "code",
   "execution_count": 4,
   "metadata": {},
   "outputs": [],
   "source": [
    "critirion = nn.MSELoss()\n",
    "optimizer = torch.optim.SGD(model.parameters(), lr=1e-3)"
   ]
  },
  {
   "cell_type": "code",
   "execution_count": 5,
   "metadata": {},
   "outputs": [
    {
     "name": "stdout",
     "output_type": "stream",
     "text": [
      "loss is 0.16775231063365936\n",
      "loss is 0.15849757194519043\n",
      "loss is 0.15746252238750458\n",
      "loss is 0.15647295117378235\n",
      "loss is 0.15552526712417603\n"
     ]
    }
   ],
   "source": [
    "from torch.autograd import Variable\n",
    "\n",
    "for i in range(500):\n",
    "    if torch.cuda.is_available():\n",
    "        inputs = Variable(x).cuda()\n",
    "        target = Variable(y).cuda()\n",
    "    else:\n",
    "        inputs = Variable(x)\n",
    "        target = Variable(y)\n",
    "    output = model(inputs)\n",
    "    loss = critirion(output, target)\n",
    "    optimizer.zero_grad()\n",
    "    loss.backward()\n",
    "    optimizer.step()\n",
    "    if (i+1)%100 == 0:\n",
    "        print('loss is {}'.format(loss.data))"
   ]
  },
  {
   "cell_type": "code",
   "execution_count": 6,
   "metadata": {},
   "outputs": [
    {
     "data": {
      "image/png": "[encoded data removed]",
      "text/plain": [
       "<Figure size 432x288 with 1 Axes>"
      ]
     },
     "metadata": {
      "needs_background": "light"
     },
     "output_type": "display_data"
    }
   ],
   "source": [
    "import matplotlib.pyplot as plt\n",
    "\n",
    "model.eval()\n",
    "\n",
    "model.cpu()  # Expected object of device type cuda but got device type cpu for argument #2 'mat1' in call to _th_addmm\n",
    "\n",
    "predict = model(Variable(x))\n",
    "# 将预测值画出来\n",
    "predict = predict.data.numpy()\n",
    "plt.plot(x.numpy(), y.numpy(),'ro', label='original data')\n",
    "plt.plot(x.numpy(), predict, label='Fitting Line')\n",
    "plt.show()"
   ]
  },
  {
   "cell_type": "markdown",
   "metadata": {},
   "source": [
    "numpy.array 转换成Tensor：torch.from_numpy(x_numpy)   \n",
    "model.cuda(): 将模型放到GPU上    \n",
    "每次做反向传播之前，都要做归零梯度：optimizer.zero_grad()  \n",
    "model.eval(): 将模型变成测试模式； 这是因为有一些层操作，比如dropout 和 BatchNormalization 在 __训练__和 __测试__ 时不一样。  \n",
    "定义的模型是线性的，所以，在这里，模型预测的值，画出来就是一条直线。\n"
   ]
  },
  {
   "cell_type": "markdown",
   "metadata": {},
   "source": [
    "### 多项式回归\n",
    "$$ y = b + w1*x + w2*x^2 + w3*x^3$$\n",
    "$$ y = 0.9 + 0.5*x + 3*x^2 + 2.4*x^3$$"
   ]
  },
  {
   "cell_type": "code",
   "execution_count": 7,
   "metadata": {},
   "outputs": [],
   "source": [
    "# define w, b, x\n",
    "w = torch.FloatTensor([0.5, 3, 2.4]).unsqueeze(1)     ## unsqueeze(1):将原来的tensor大小由3变成（3，1）。\n",
    "b = torch.FloatTensor([0.9])\n",
    "\n",
    "def make_features(x):\n",
    "    x = x.unsqueeze(1)\n",
    "    return torch.cat([x**i for i in range(1, 4)], 1)"
   ]
  },
  {
   "cell_type": "code",
   "execution_count": 8,
   "metadata": {},
   "outputs": [],
   "source": [
    "# define model\n",
    "def f(x):\n",
    "    return x.mm(w) + b"
   ]
  },
  {
   "cell_type": "code",
   "execution_count": 9,
   "metadata": {},
   "outputs": [],
   "source": [
    "def get_batch(batch_size=32):\n",
    "    random = torch.randn(batch_size)\n",
    "    x = make_features(random)\n",
    "    y = f(x)\n",
    "    if torch.cuda.is_available():\n",
    "        return Variable(x).cuda(), Variable(y).cuda()\n",
    "    else:\n",
    "        return Variable(x), Variable(y)"
   ]
  },
  {
   "cell_type": "code",
   "execution_count": 10,
   "metadata": {},
   "outputs": [],
   "source": [
    "class poly_model(nn.Module):\n",
    "    def __init__(self):\n",
    "        super(poly_model, self).__init__()\n",
    "        self.poly = nn.Linear(3, 1)\n",
    "    \n",
    "    def forward(self, x):\n",
    "        out = self.poly(x)\n",
    "        return out"
   ]
  },
  {
   "cell_type": "code",
   "execution_count": 11,
   "metadata": {},
   "outputs": [
    {
     "name": "stdout",
     "output_type": "stream",
     "text": [
      "tensor(0.0020, device='cuda:0', grad_fn=<MseLossBackward>)\n",
      "tensor(0.0019, device='cuda:0', grad_fn=<MseLossBackward>)\n",
      "tensor(0.0019, device='cuda:0', grad_fn=<MseLossBackward>)\n",
      "tensor(0.0017, device='cuda:0', grad_fn=<MseLossBackward>)\n",
      "tensor(0.0020, device='cuda:0', grad_fn=<MseLossBackward>)\n",
      "tensor(0.0018, device='cuda:0', grad_fn=<MseLossBackward>)\n",
      "tensor(0.0019, device='cuda:0', grad_fn=<MseLossBackward>)\n",
      "tensor(0.0018, device='cuda:0', grad_fn=<MseLossBackward>)\n",
      "tensor(0.0016, device='cuda:0', grad_fn=<MseLossBackward>)\n",
      "tensor(0.0020, device='cuda:0', grad_fn=<MseLossBackward>)\n",
      "tensor(0.0019, device='cuda:0', grad_fn=<MseLossBackward>)\n",
      "tensor(0.0019, device='cuda:0', grad_fn=<MseLossBackward>)\n",
      "tensor(0.0017, device='cuda:0', grad_fn=<MseLossBackward>)\n",
      "tensor(0.0020, device='cuda:0', grad_fn=<MseLossBackward>)\n",
      "tensor(0.0018, device='cuda:0', grad_fn=<MseLossBackward>)\n",
      "tensor(0.0018, device='cuda:0', grad_fn=<MseLossBackward>)\n",
      "tensor(0.0019, device='cuda:0', grad_fn=<MseLossBackward>)\n",
      "tensor(0.0018, device='cuda:0', grad_fn=<MseLossBackward>)\n",
      "tensor(0.0019, device='cuda:0', grad_fn=<MseLossBackward>)\n",
      "tensor(0.0020, device='cuda:0', grad_fn=<MseLossBackward>)\n",
      "tensor(0.0020, device='cuda:0', grad_fn=<MseLossBackward>)\n",
      "tensor(0.0016, device='cuda:0', grad_fn=<MseLossBackward>)\n",
      "tensor(0.0013, device='cuda:0', grad_fn=<MseLossBackward>)\n",
      "tensor(0.0019, device='cuda:0', grad_fn=<MseLossBackward>)\n",
      "tensor(0.0017, device='cuda:0', grad_fn=<MseLossBackward>)\n",
      "tensor(0.0017, device='cuda:0', grad_fn=<MseLossBackward>)\n",
      "tensor(0.0020, device='cuda:0', grad_fn=<MseLossBackward>)\n",
      "tensor(0.0017, device='cuda:0', grad_fn=<MseLossBackward>)\n",
      "tensor(0.0019, device='cuda:0', grad_fn=<MseLossBackward>)\n",
      "tensor(0.0017, device='cuda:0', grad_fn=<MseLossBackward>)\n",
      "tensor(0.0018, device='cuda:0', grad_fn=<MseLossBackward>)\n",
      "tensor(0.0020, device='cuda:0', grad_fn=<MseLossBackward>)\n",
      "tensor(0.0018, device='cuda:0', grad_fn=<MseLossBackward>)\n",
      "tensor(0.0016, device='cuda:0', grad_fn=<MseLossBackward>)\n",
      "tensor(0.0019, device='cuda:0', grad_fn=<MseLossBackward>)\n",
      "tensor(0.0020, device='cuda:0', grad_fn=<MseLossBackward>)\n",
      "tensor(0.0019, device='cuda:0', grad_fn=<MseLossBackward>)\n",
      "tensor(0.0016, device='cuda:0', grad_fn=<MseLossBackward>)\n",
      "tensor(0.0019, device='cuda:0', grad_fn=<MseLossBackward>)\n",
      "tensor(0.0020, device='cuda:0', grad_fn=<MseLossBackward>)\n",
      "tensor(0.0015, device='cuda:0', grad_fn=<MseLossBackward>)\n",
      "tensor(0.0015, device='cuda:0', grad_fn=<MseLossBackward>)\n",
      "tensor(0.0020, device='cuda:0', grad_fn=<MseLossBackward>)\n",
      "tensor(0.0014, device='cuda:0', grad_fn=<MseLossBackward>)\n",
      "tensor(0.0018, device='cuda:0', grad_fn=<MseLossBackward>)\n",
      "tensor(0.0020, device='cuda:0', grad_fn=<MseLossBackward>)\n",
      "tensor(0.0018, device='cuda:0', grad_fn=<MseLossBackward>)\n",
      "tensor(0.0018, device='cuda:0', grad_fn=<MseLossBackward>)\n",
      "tensor(0.0020, device='cuda:0', grad_fn=<MseLossBackward>)\n",
      "tensor(0.0020, device='cuda:0', grad_fn=<MseLossBackward>)\n",
      "tensor(0.0016, device='cuda:0', grad_fn=<MseLossBackward>)\n",
      "tensor(0.0019, device='cuda:0', grad_fn=<MseLossBackward>)\n",
      "tensor(0.0018, device='cuda:0', grad_fn=<MseLossBackward>)\n",
      "tensor(0.0012, device='cuda:0', grad_fn=<MseLossBackward>)\n",
      "tensor(0.0016, device='cuda:0', grad_fn=<MseLossBackward>)\n",
      "tensor(0.0015, device='cuda:0', grad_fn=<MseLossBackward>)\n",
      "tensor(0.0016, device='cuda:0', grad_fn=<MseLossBackward>)\n",
      "tensor(0.0018, device='cuda:0', grad_fn=<MseLossBackward>)\n",
      "tensor(0.0017, device='cuda:0', grad_fn=<MseLossBackward>)\n",
      "tensor(0.0018, device='cuda:0', grad_fn=<MseLossBackward>)\n",
      "tensor(0.0018, device='cuda:0', grad_fn=<MseLossBackward>)\n",
      "tensor(0.0018, device='cuda:0', grad_fn=<MseLossBackward>)\n",
      "tensor(0.0017, device='cuda:0', grad_fn=<MseLossBackward>)\n",
      "tensor(0.0015, device='cuda:0', grad_fn=<MseLossBackward>)\n",
      "tensor(0.0018, device='cuda:0', grad_fn=<MseLossBackward>)\n",
      "tensor(0.0012, device='cuda:0', grad_fn=<MseLossBackward>)\n",
      "tensor(0.0016, device='cuda:0', grad_fn=<MseLossBackward>)\n",
      "tensor(0.0019, device='cuda:0', grad_fn=<MseLossBackward>)\n",
      "tensor(0.0016, device='cuda:0', grad_fn=<MseLossBackward>)\n",
      "tensor(0.0015, device='cuda:0', grad_fn=<MseLossBackward>)\n",
      "tensor(0.0018, device='cuda:0', grad_fn=<MseLossBackward>)\n",
      "tensor(0.0019, device='cuda:0', grad_fn=<MseLossBackward>)\n",
      "tensor(0.0015, device='cuda:0', grad_fn=<MseLossBackward>)\n",
      "tensor(0.0020, device='cuda:0', grad_fn=<MseLossBackward>)\n",
      "tensor(0.0019, device='cuda:0', grad_fn=<MseLossBackward>)\n",
      "tensor(0.0017, device='cuda:0', grad_fn=<MseLossBackward>)\n",
      "tensor(0.0017, device='cuda:0', grad_fn=<MseLossBackward>)\n",
      "tensor(0.0018, device='cuda:0', grad_fn=<MseLossBackward>)\n",
      "tensor(0.0017, device='cuda:0', grad_fn=<MseLossBackward>)\n",
      "tensor(0.0016, device='cuda:0', grad_fn=<MseLossBackward>)\n",
      "tensor(0.0018, device='cuda:0', grad_fn=<MseLossBackward>)\n",
      "tensor(0.0019, device='cuda:0', grad_fn=<MseLossBackward>)\n",
      "tensor(0.0015, device='cuda:0', grad_fn=<MseLossBackward>)\n",
      "tensor(0.0018, device='cuda:0', grad_fn=<MseLossBackward>)\n",
      "tensor(0.0017, device='cuda:0', grad_fn=<MseLossBackward>)\n",
      "tensor(0.0018, device='cuda:0', grad_fn=<MseLossBackward>)\n",
      "tensor(0.0016, device='cuda:0', grad_fn=<MseLossBackward>)\n",
      "tensor(0.0018, device='cuda:0', grad_fn=<MseLossBackward>)\n",
      "tensor(0.0016, device='cuda:0', grad_fn=<MseLossBackward>)\n",
      "tensor(0.0017, device='cuda:0', grad_fn=<MseLossBackward>)\n",
      "tensor(0.0018, device='cuda:0', grad_fn=<MseLossBackward>)\n",
      "tensor(0.0017, device='cuda:0', grad_fn=<MseLossBackward>)\n",
      "tensor(0.0017, device='cuda:0', grad_fn=<MseLossBackward>)\n",
      "tensor(0.0016, device='cuda:0', grad_fn=<MseLossBackward>)\n",
      "tensor(0.0014, device='cuda:0', grad_fn=<MseLossBackward>)\n",
      "tensor(0.0016, device='cuda:0', grad_fn=<MseLossBackward>)\n",
      "tensor(0.0014, device='cuda:0', grad_fn=<MseLossBackward>)\n",
      "tensor(0.0018, device='cuda:0', grad_fn=<MseLossBackward>)\n",
      "tensor(0.0016, device='cuda:0', grad_fn=<MseLossBackward>)\n",
      "tensor(0.0015, device='cuda:0', grad_fn=<MseLossBackward>)\n",
      "tensor(0.0016, device='cuda:0', grad_fn=<MseLossBackward>)\n",
      "tensor(0.0015, device='cuda:0', grad_fn=<MseLossBackward>)\n",
      "tensor(0.0019, device='cuda:0', grad_fn=<MseLossBackward>)\n",
      "tensor(0.0016, device='cuda:0', grad_fn=<MseLossBackward>)\n",
      "tensor(0.0015, device='cuda:0', grad_fn=<MseLossBackward>)\n",
      "tensor(0.0016, device='cuda:0', grad_fn=<MseLossBackward>)\n",
      "tensor(0.0018, device='cuda:0', grad_fn=<MseLossBackward>)\n",
      "tensor(0.0012, device='cuda:0', grad_fn=<MseLossBackward>)\n",
      "tensor(0.0013, device='cuda:0', grad_fn=<MseLossBackward>)\n",
      "tensor(0.0016, device='cuda:0', grad_fn=<MseLossBackward>)\n",
      "tensor(0.0013, device='cuda:0', grad_fn=<MseLossBackward>)\n",
      "tensor(0.0013, device='cuda:0', grad_fn=<MseLossBackward>)\n",
      "tensor(0.0016, device='cuda:0', grad_fn=<MseLossBackward>)\n",
      "tensor(0.0011, device='cuda:0', grad_fn=<MseLossBackward>)\n",
      "tensor(0.0016, device='cuda:0', grad_fn=<MseLossBackward>)\n",
      "tensor(0.0013, device='cuda:0', grad_fn=<MseLossBackward>)\n",
      "tensor(0.0014, device='cuda:0', grad_fn=<MseLossBackward>)\n",
      "tensor(0.0018, device='cuda:0', grad_fn=<MseLossBackward>)\n",
      "tensor(0.0012, device='cuda:0', grad_fn=<MseLossBackward>)\n",
      "tensor(0.0015, device='cuda:0', grad_fn=<MseLossBackward>)\n",
      "tensor(0.0016, device='cuda:0', grad_fn=<MseLossBackward>)\n",
      "tensor(0.0017, device='cuda:0', grad_fn=<MseLossBackward>)\n",
      "tensor(0.0014, device='cuda:0', grad_fn=<MseLossBackward>)\n",
      "tensor(0.0016, device='cuda:0', grad_fn=<MseLossBackward>)\n",
      "tensor(0.0018, device='cuda:0', grad_fn=<MseLossBackward>)\n",
      "tensor(0.0016, device='cuda:0', grad_fn=<MseLossBackward>)\n",
      "tensor(0.0016, device='cuda:0', grad_fn=<MseLossBackward>)\n",
      "tensor(0.0017, device='cuda:0', grad_fn=<MseLossBackward>)\n",
      "tensor(0.0018, device='cuda:0', grad_fn=<MseLossBackward>)\n",
      "tensor(0.0018, device='cuda:0', grad_fn=<MseLossBackward>)\n",
      "tensor(0.0020, device='cuda:0', grad_fn=<MseLossBackward>)\n",
      "tensor(0.0017, device='cuda:0', grad_fn=<MseLossBackward>)\n",
      "tensor(0.0015, device='cuda:0', grad_fn=<MseLossBackward>)\n",
      "tensor(0.0016, device='cuda:0', grad_fn=<MseLossBackward>)\n",
      "tensor(0.0018, device='cuda:0', grad_fn=<MseLossBackward>)\n",
      "tensor(0.0016, device='cuda:0', grad_fn=<MseLossBackward>)\n",
      "tensor(0.0017, device='cuda:0', grad_fn=<MseLossBackward>)\n",
      "tensor(0.0018, device='cuda:0', grad_fn=<MseLossBackward>)\n",
      "tensor(0.0015, device='cuda:0', grad_fn=<MseLossBackward>)\n",
      "tensor(0.0012, device='cuda:0', grad_fn=<MseLossBackward>)\n",
      "tensor(0.0015, device='cuda:0', grad_fn=<MseLossBackward>)\n",
      "tensor(0.0010, device='cuda:0', grad_fn=<MseLossBackward>)\n",
      "tensor(0.0016, device='cuda:0', grad_fn=<MseLossBackward>)\n",
      "tensor(0.0015, device='cuda:0', grad_fn=<MseLossBackward>)\n",
      "tensor(0.0017, device='cuda:0', grad_fn=<MseLossBackward>)\n",
      "tensor(0.0012, device='cuda:0', grad_fn=<MseLossBackward>)\n",
      "tensor(0.0017, device='cuda:0', grad_fn=<MseLossBackward>)\n",
      "tensor(0.0017, device='cuda:0', grad_fn=<MseLossBackward>)\n",
      "tensor(0.0015, device='cuda:0', grad_fn=<MseLossBackward>)\n",
      "tensor(0.0016, device='cuda:0', grad_fn=<MseLossBackward>)\n",
      "tensor(0.0017, device='cuda:0', grad_fn=<MseLossBackward>)\n",
      "tensor(0.0016, device='cuda:0', grad_fn=<MseLossBackward>)\n",
      "tensor(0.0016, device='cuda:0', grad_fn=<MseLossBackward>)\n",
      "tensor(0.0014, device='cuda:0', grad_fn=<MseLossBackward>)\n",
      "tensor(0.0016, device='cuda:0', grad_fn=<MseLossBackward>)\n",
      "tensor(0.0015, device='cuda:0', grad_fn=<MseLossBackward>)\n",
      "tensor(0.0016, device='cuda:0', grad_fn=<MseLossBackward>)\n",
      "tensor(0.0016, device='cuda:0', grad_fn=<MseLossBackward>)\n",
      "tensor(0.0015, device='cuda:0', grad_fn=<MseLossBackward>)\n",
      "tensor(0.0017, device='cuda:0', grad_fn=<MseLossBackward>)\n",
      "tensor(0.0016, device='cuda:0', grad_fn=<MseLossBackward>)\n",
      "tensor(0.0012, device='cuda:0', grad_fn=<MseLossBackward>)\n",
      "tensor(0.0016, device='cuda:0', grad_fn=<MseLossBackward>)\n",
      "tensor(0.0011, device='cuda:0', grad_fn=<MseLossBackward>)\n",
      "tensor(0.0018, device='cuda:0', grad_fn=<MseLossBackward>)\n",
      "tensor(0.0014, device='cuda:0', grad_fn=<MseLossBackward>)\n",
      "tensor(0.0011, device='cuda:0', grad_fn=<MseLossBackward>)\n",
      "tensor(0.0017, device='cuda:0', grad_fn=<MseLossBackward>)\n",
      "tensor(0.0015, device='cuda:0', grad_fn=<MseLossBackward>)\n",
      "tensor(0.0012, device='cuda:0', grad_fn=<MseLossBackward>)\n",
      "tensor(0.0016, device='cuda:0', grad_fn=<MseLossBackward>)\n",
      "tensor(0.0015, device='cuda:0', grad_fn=<MseLossBackward>)\n",
      "tensor(0.0017, device='cuda:0', grad_fn=<MseLossBackward>)\n",
      "tensor(0.0018, device='cuda:0', grad_fn=<MseLossBackward>)\n",
      "tensor(0.0011, device='cuda:0', grad_fn=<MseLossBackward>)\n",
      "tensor(0.0011, device='cuda:0', grad_fn=<MseLossBackward>)\n",
      "tensor(0.0015, device='cuda:0', grad_fn=<MseLossBackward>)\n",
      "tensor(0.0017, device='cuda:0', grad_fn=<MseLossBackward>)\n",
      "tensor(0.0014, device='cuda:0', grad_fn=<MseLossBackward>)\n",
      "tensor(0.0012, device='cuda:0', grad_fn=<MseLossBackward>)\n",
      "tensor(0.0016, device='cuda:0', grad_fn=<MseLossBackward>)\n",
      "tensor(0.0018, device='cuda:0', grad_fn=<MseLossBackward>)\n",
      "tensor(0.0015, device='cuda:0', grad_fn=<MseLossBackward>)\n",
      "tensor(0.0015, device='cuda:0', grad_fn=<MseLossBackward>)\n",
      "tensor(0.0010, device='cuda:0', grad_fn=<MseLossBackward>)\n",
      "tensor(0.0012, device='cuda:0', grad_fn=<MseLossBackward>)\n",
      "tensor(0.0015, device='cuda:0', grad_fn=<MseLossBackward>)\n",
      "tensor(0.0012, device='cuda:0', grad_fn=<MseLossBackward>)\n",
      "tensor(0.0016, device='cuda:0', grad_fn=<MseLossBackward>)\n",
      "tensor(0.0012, device='cuda:0', grad_fn=<MseLossBackward>)\n",
      "tensor(0.0017, device='cuda:0', grad_fn=<MseLossBackward>)\n",
      "tensor(0.0012, device='cuda:0', grad_fn=<MseLossBackward>)\n",
      "tensor(0.0018, device='cuda:0', grad_fn=<MseLossBackward>)\n",
      "tensor(0.0013, device='cuda:0', grad_fn=<MseLossBackward>)\n",
      "tensor(0.0010, device='cuda:0', grad_fn=<MseLossBackward>)\n",
      "tensor(0.0013, device='cuda:0', grad_fn=<MseLossBackward>)\n",
      "tensor(0.0014, device='cuda:0', grad_fn=<MseLossBackward>)\n",
      "tensor(0.0015, device='cuda:0', grad_fn=<MseLossBackward>)\n",
      "tensor(0.0012, device='cuda:0', grad_fn=<MseLossBackward>)\n",
      "tensor(0.0016, device='cuda:0', grad_fn=<MseLossBackward>)\n",
      "tensor(0.0015, device='cuda:0', grad_fn=<MseLossBackward>)\n",
      "tensor(0.0014, device='cuda:0', grad_fn=<MseLossBackward>)\n",
      "tensor(0.0012, device='cuda:0', grad_fn=<MseLossBackward>)\n",
      "tensor(0.0014, device='cuda:0', grad_fn=<MseLossBackward>)\n",
      "tensor(0.0016, device='cuda:0', grad_fn=<MseLossBackward>)\n",
      "tensor(0.0012, device='cuda:0', grad_fn=<MseLossBackward>)\n",
      "tensor(0.0013, device='cuda:0', grad_fn=<MseLossBackward>)\n",
      "tensor(0.0012, device='cuda:0', grad_fn=<MseLossBackward>)\n",
      "tensor(0.0014, device='cuda:0', grad_fn=<MseLossBackward>)\n",
      "tensor(0.0011, device='cuda:0', grad_fn=<MseLossBackward>)\n",
      "tensor(0.0013, device='cuda:0', grad_fn=<MseLossBackward>)\n",
      "tensor(0.0015, device='cuda:0', grad_fn=<MseLossBackward>)\n",
      "tensor(0.0013, device='cuda:0', grad_fn=<MseLossBackward>)\n",
      "tensor(0.0013, device='cuda:0', grad_fn=<MseLossBackward>)\n",
      "tensor(0.0013, device='cuda:0', grad_fn=<MseLossBackward>)\n",
      "tensor(0.0017, device='cuda:0', grad_fn=<MseLossBackward>)\n",
      "tensor(0.0009, device='cuda:0', grad_fn=<MseLossBackward>)\n"
     ]
    }
   ],
   "source": [
    "## Compare the f(x) and the class poly_model, then compute the loss\n",
    "# define the model\n",
    "if torch.cuda.is_available():\n",
    "    model = poly_model().cuda()\n",
    "else:\n",
    "    model = poly_model()\n",
    "\n",
    "criterion = nn.MSELoss()\n",
    "optimizer = torch.optim.SGD(model.parameters(), lr=1e-3)\n",
    "epoch = 0 \n",
    "while True:\n",
    "    batch_x, batch_y = get_batch()\n",
    "    out = model(batch_x)\n",
    "    loss = criterion(out, batch_y)\n",
    "    optimizer.zero_grad()\n",
    "    loss.backward()\n",
    "    optimizer.step()\n",
    "    epoch += 1\n",
    "    if loss < 1e-3 + 0.001:\n",
    "        print(loss)\n",
    "    if loss < 1e-3:\n",
    "        break\n",
    "\n"
   ]
  },
  {
   "cell_type": "code",
   "execution_count": 12,
   "metadata": {},
   "outputs": [],
   "source": [
    "numpyx = np.arange(-1, 1, 0.25, dtype='float32')  ### here dtype='float32' is important.\n",
    "x = torch.from_numpy(numpyx)\n",
    "x = make_features(x)\n",
    "y = f(x)"
   ]
  },
  {
   "cell_type": "code",
   "execution_count": 13,
   "metadata": {},
   "outputs": [
    {
     "data": {
      "text/plain": [
       "[<matplotlib.lines.Line2D at 0x7fd9f84bf0b8>,\n",
       " <matplotlib.lines.Line2D at 0x7fda01b3fc18>,\n",
       " <matplotlib.lines.Line2D at 0x7fda01b3ff60>]"
      ]
     },
     "execution_count": 13,
     "metadata": {},
     "output_type": "execute_result"
    },
    {
     "data": {
      "image/png": "[encoded data removed]",
      "text/plain": [
       "<Figure size 432x288 with 1 Axes>"
      ]
     },
     "metadata": {
      "needs_background": "light"
     },
     "output_type": "display_data"
    }
   ],
   "source": [
    "numx = x.numpy()\n",
    "numy = y.numpy()\n",
    "\n",
    "model = model.cpu()   # run on cpu!!\n",
    "predict = model(x)\n",
    "predict = predict.data.numpy()\n",
    "plt.plot(numx, numy, 'ro', label='original data')\n",
    "plt.plot(x, predict, label='fitting')"
   ]
  },
  {
   "cell_type": "markdown",
   "metadata": {},
   "source": [
    "# 3.3 Classification   \n",
    "二分类算法- __Logistic回归__   \n",
    "\n",
    "## 3.3.3 Logistic distribution   \n",
    "Supposed that X是连续的随机变量，服从Logistic分布是指X的积累分布函数如下：\n",
    "$$ F(x) = P(X <= x) = \\frac{1}{1 + e^{-(x-u)/r}}$$\n",
    "u 影响中心对称点的位置, r越小，中心点附近的增长速度越快。  \n",
    "\n",
    "Sigmoid函数，Logistic分布函数中r=1，u=0的形式： \n",
    "$$ P(x) = \\frac{1}{1 + e^{-x}}$$ \n",
    "\n",
    "## 3.3.4 two-class Logistic regression  \n",
    "对于二分类问题，Logistic回归的目标：希望找到一个区分度好的决策边界。  \n",
    "假设样本的部分点A：$$ h_{w}(x) = \\sum {w_i * x_i + b} > 0$$ \n",
    "   另外的样本点B：$$ h_{w}(x) = \\sum {w_i * x_i + b} < 0$$ \n",
    "   属于A的，可以判定它的类别为1；属于B的，可以判定它的类别是0.  \n",
    "   $$P(Y=0|x) = \\frac{1}{1 + e^{w*x +b}}$$\n",
    "   $$P(Y=1|x) = \\frac{e^{w*x + b}}{1 + e^{w*x +b}}$$\n",
    "   \n",
    "### logit function:\n",
    "$$logit(p) = log(\\frac{p}{1-p})$$\n",
    "$$log(\\frac{P(Y=1|x)}{P(Y=0|x)}) = w*x + b  $$\n",
    "$$log(\\frac{P(Y=1|x)}{1- P(Y=1|x)}) = w*x + b $$\n",
    "在Logistic回归模型中，输出Y=1的对数几率 是 输入x的线性函数。"
   ]
  },
  {
   "cell_type": "code",
   "execution_count": 23,
   "metadata": {},
   "outputs": [
    {
     "data": {
      "text/plain": [
       "'/home/local/USHERBROOKE/shih3801/Documents/IFT725/IFT725_myUnderstanding/Pytorch_tutorial/data.txt'"
      ]
     },
     "execution_count": 23,
     "metadata": {},
     "output_type": "execute_result"
    }
   ],
   "source": [
    "import os\n",
    "path = os.getcwd()\n",
    "path = os.path.join(path, 'data.txt')\n",
    "path"
   ]
  },
  {
   "cell_type": "code",
   "execution_count": 24,
   "metadata": {},
   "outputs": [
    {
     "name": "stdout",
     "output_type": "stream",
     "text": [
      "['34.62365962451697,78.0246928153624,0', '30.28671076822607,43.89499752400101,0', '35.84740876993872,72.90219802708364,0', '60.18259938620976,86.30855209546826,1']\n",
      "[['34.62365962451697', '78.0246928153624', '0'], ['30.28671076822607', '43.89499752400101', '0'], ['35.84740876993872', '72.90219802708364', '0'], ['60.18259938620976', '86.30855209546826', '1']]\n",
      "[(34.62365962451697, 78.0246928153624, 0), (30.28671076822607, 43.89499752400101, 0), (35.84740876993872, 72.90219802708364, 0), (60.18259938620976, 86.30855209546826, 1)]\n"
     ]
    }
   ],
   "source": [
    "with open(path, 'r') as f:\n",
    "    datalist = f.readlines()\n",
    "    data = [i.split('\\n')[0] for i in datalist]\n",
    "    print(data[:4])\n",
    "    data = [i.split(',') for i in data]\n",
    "    print(data[:4])\n",
    "    data = [(float(i[0]), float(i[1]), int(i[2])) for i in data]\n",
    "    print(data[:4])"
   ]
  },
  {
   "cell_type": "code",
   "execution_count": 25,
   "metadata": {},
   "outputs": [
    {
     "data": {
      "text/plain": [
       "<matplotlib.legend.Legend at 0x7fd9f1091908>"
      ]
     },
     "execution_count": 25,
     "metadata": {},
     "output_type": "execute_result"
    },
    {
     "data": {
      "image/png": "[encoded data removed]",
      "text/plain": [
       "<Figure size 432x288 with 1 Axes>"
      ]
     },
     "metadata": {
      "needs_background": "light"
     },
     "output_type": "display_data"
    }
   ],
   "source": [
    "# plot the data\n",
    "import matplotlib.pyplot as plt\n",
    "x0 = list(filter(lambda x: x[-1] == 0, data))\n",
    "x1 = list(filter(lambda x: x[-1] == 1, data))\n",
    "# Plot the points of x0 in red\n",
    "x0_a = [i[0] for i in x0]\n",
    "x0_b = [i[1] for i in x0]\n",
    "plt.plot(x0_a, x0_b, 'ro', label='x0')\n",
    "# plot the points of x1 in blue\n",
    "x1_a = [i[0] for i in x1]\n",
    "x1_b = [i[1] for i in x1]\n",
    "plt.plot(x1_a, x1_b, 'bo', label='x1')\n",
    "plt.legend(loc='best') # set the position of legend and show the labels"
   ]
  },
  {
   "cell_type": "markdown",
   "metadata": {},
   "source": [
    "### Try to look for the line to separate the two classes. \n",
    "### w0* x + w1*y + b = 0. To look for the w, b\n",
    "## 定义Logistic回归模型，二分类的损失函数 和 优化方法。"
   ]
  },
  {
   "cell_type": "code",
   "execution_count": 26,
   "metadata": {},
   "outputs": [],
   "source": [
    "# Try to look for the line to separate the two classes. \n",
    "# y = w * x + b. To look for the w, b\n",
    "class Logistic(nn.Module):\n",
    "    def __init__(self):\n",
    "        super(Logistic, self).__init__()\n",
    "        self.Linear = nn.Linear(2, 1)\n",
    "        self.sm = nn.Sigmoid()\n",
    "        \n",
    "    def forward(self, x):\n",
    "        out = self.Linear(x)\n",
    "        out = self.sm(out)\n",
    "        return out\n",
    "    \n",
    "model = Logistic()\n",
    "criterion = nn.BCELoss()\n",
    "optimizer = torch.optim.SGD(model.parameters(), lr=1e-3, momentum=0.9)"
   ]
  },
  {
   "cell_type": "code",
   "execution_count": 27,
   "metadata": {},
   "outputs": [
    {
     "name": "stdout",
     "output_type": "stream",
     "text": [
      "tensor(0.2247, grad_fn=<BinaryCrossEntropyBackward>)\n",
      "tensor(0.2104, grad_fn=<BinaryCrossEntropyBackward>)\n",
      "tensor(0.2064, grad_fn=<BinaryCrossEntropyBackward>)\n",
      "tensor(0.2049, grad_fn=<BinaryCrossEntropyBackward>)\n",
      "tensor(0.2042, grad_fn=<BinaryCrossEntropyBackward>)\n"
     ]
    }
   ],
   "source": [
    "from torch.autograd import Variable\n",
    "\n",
    "np_data = np.array(data, dtype='float32') # 转换成 numpy array\n",
    "x_data = torch.from_numpy(np_data[:, 0:2]) # 转换成 Tensor, 大小是 [100, 2]\n",
    "y_data = torch.from_numpy(np_data[:, -1]).unsqueeze(1) # 转换成 Tensor，大小是 [100, 1]\n",
    "\n",
    "for epoch in range(500000):  # while True: loss < 1e-1\n",
    "  \n",
    "    x = Variable(x_data)\n",
    "    y = Variable(y_data)\n",
    "    \n",
    "    predict = model(x)\n",
    "    loss = criterion(predict, y)\n",
    "    optimizer.zero_grad()\n",
    "    loss.backward()\n",
    "    optimizer.step()\n",
    "    if (epoch+1)%100000 == 0:\n",
    "        print(loss)\n",
    "    "
   ]
  },
  {
   "cell_type": "code",
   "execution_count": 28,
   "metadata": {},
   "outputs": [
    {
     "data": {
      "text/plain": [
       "array([[34.62366 , 78.0247  ,  0.      ],\n",
       "       [30.28671 , 43.894997,  0.      ],\n",
       "       [35.84741 , 72.9022  ,  0.      ],\n",
       "       [60.1826  , 86.308556,  1.      ],\n",
       "       [79.03274 , 75.344376,  1.      ]], dtype=float32)"
      ]
     },
     "execution_count": 28,
     "metadata": {},
     "output_type": "execute_result"
    }
   ],
   "source": [
    "np_data[:5]"
   ]
  },
  {
   "cell_type": "markdown",
   "metadata": {},
   "source": [
    "## get the parameters of the model\n",
    "### model.linear.weight[0]\n"
   ]
  },
  {
   "cell_type": "code",
   "execution_count": 29,
   "metadata": {},
   "outputs": [
    {
     "name": "stdout",
     "output_type": "stream",
     "text": [
      "tensor(0.1900) tensor(0.1850) tensor(-23.1273)\n"
     ]
    }
   ],
   "source": [
    "w0, w1 = model.Linear.weight[0]\n",
    "w0 = w0.data\n",
    "w1 = w1.data\n",
    "b = model.Linear.bias.data[0]  ## tensor(11.7589) tensor([-11.7589])\n",
    "print(w0, w1, b)"
   ]
  },
  {
   "cell_type": "code",
   "execution_count": 30,
   "metadata": {},
   "outputs": [
    {
     "data": {
      "text/plain": [
       "<matplotlib.legend.Legend at 0x7fd9f0fce4a8>"
      ]
     },
     "execution_count": 30,
     "metadata": {},
     "output_type": "execute_result"
    },
    {
     "data": {
      "image/png": "[encoded data removed]",
      "text/plain": [
       "<Figure size 432x288 with 1 Axes>"
      ]
     },
     "metadata": {
      "needs_background": "light"
     },
     "output_type": "display_data"
    }
   ],
   "source": [
    "plotx = np.arange(20, 100, 0.1)\n",
    "ploty = (-w0*plotx - b) / w1\n",
    "plt.plot(plotx, ploty)\n",
    "x0 = list(filter(lambda x: x[-1] == 0, data))\n",
    "x1 = list(filter(lambda x: x[-1] == 1, data))\n",
    "# Plot the points of x0 in red\n",
    "x0_a = [i[0] for i in x0]\n",
    "x0_b = [i[1] for i in x0]\n",
    "plt.plot(x0_a, x0_b, 'ro', label='x0')\n",
    "# plot the points of x1 in blue\n",
    "x1_a = [i[0] for i in x1]\n",
    "x1_b = [i[1] for i in x1]\n",
    "plt.plot(x1_a, x1_b, 'bo', label='x1')\n",
    "plt.legend(loc='best') "
   ]
  },
  {
   "cell_type": "code",
   "execution_count": null,
   "metadata": {},
   "outputs": [],
   "source": []
  }
 ],
 "metadata": {
  "kernelspec": {
   "display_name": "Python 3",
   "language": "python",
   "name": "python3"
  },
  "language_info": {
   "codemirror_mode": {
    "name": "ipython",
    "version": 3
   },
   "file_extension": ".py",
   "mimetype": "text/x-python",
   "name": "python",
   "nbconvert_exporter": "python",
   "pygments_lexer": "ipython3",
   "version": "3.7.3"
  }
 },
 "nbformat": 4,
 "nbformat_minor": 2
}
