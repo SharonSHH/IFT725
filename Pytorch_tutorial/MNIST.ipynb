{
 "cells": [
  {
   "cell_type": "markdown",
   "metadata": {},
   "source": [
    "# MNIST recognition. \n",
    "1. define a three-layer fully connected neural network.  \n",
    "2. Add activation function in a class.  \n",
    "    nn.ReLU(True)\n",
    "3. Implement batch norm for the first two layers.   \n",
    "    nn.BatchNorm1d(n_hidden1)\n",
    "4. Train the model."
   ]
  },
  {
   "cell_type": "code",
   "execution_count": 1,
   "metadata": {},
   "outputs": [],
   "source": [
    "import torch\n",
    "from torch import nn, optim\n",
    "from torch.autograd import Variable\n",
    "from torch.utils.data import DataLoader\n",
    "from torchvision import datasets, transforms\n",
    "from torchvision.datasets import mnist"
   ]
  },
  {
   "cell_type": "code",
   "execution_count": 2,
   "metadata": {},
   "outputs": [],
   "source": [
    "batch_size = 64\n",
    "learning_rate = 1e-2\n",
    "epoches = 20"
   ]
  },
  {
   "cell_type": "code",
   "execution_count": 3,
   "metadata": {},
   "outputs": [],
   "source": [
    "data_tf = transforms.Compose([transforms.ToTensor(), transforms.Normalize([0.5],[0.5])])"
   ]
  },
  {
   "cell_type": "code",
   "execution_count": null,
   "metadata": {},
   "outputs": [
    {
     "name": "stdout",
     "output_type": "stream",
     "text": [
      "Downloading http://yann.lecun.com/exdb/mnist/train-images-idx3-ubyte.gz to ./data/MNIST/raw/train-images-idx3-ubyte.gz\n"
     ]
    },
    {
     "data": {
      "application/vnd.jupyter.widget-view+json": {
       "model_id": "83f0617855c54154890dc8a40bd20df1",
       "version_major": 2,
       "version_minor": 0
      },
      "text/plain": [
       "HBox(children=(IntProgress(value=1, bar_style='info', max=1), HTML(value='')))"
      ]
     },
     "metadata": {},
     "output_type": "display_data"
    }
   ],
   "source": [
    "x_train = mnist.MNIST(root='./data', train=True, download=True)\n",
    "x_test = mnist.MNIST(root='./data', train=False, download=True)\n",
    "\n",
    "# x_train_loader = DataLoader(x_train, batch_size=batch_size, shuffle=True)\n",
    "# x_test_loader = DataLoader(x_test, batch_size=batch_size, shuffle=False)"
   ]
  },
  {
   "cell_type": "code",
   "execution_count": null,
   "metadata": {},
   "outputs": [],
   "source": [
    "# Define the model: three layers fully connected neural network\n",
    "class ThreeLayersConnected(nn.Module):\n",
    "    def __init__(self, in_dim, hidden1, hidden2, out_dim):\n",
    "        super(ThreeLayersConnected, self).__init__()\n",
    "        self.layer1 = nn.Linear(in_dim, hidden1)\n",
    "        self.layer2 = nn.Linear(hidden1, hidden2)\n",
    "        self.layer3 = nn.Linear(hidden2, out_dim)\n",
    "        \n",
    "    def forwad(x):\n",
    "        out1 = self.layer1(x)\n",
    "        out2 = self.layer2(out1)\n",
    "        out = self.layer3(out2)\n",
    "        return out\n",
    "\n",
    "# Define the activation function: ReLU\n",
    "class Activation(nn.Module):\n",
    "    def __init__(self, in_dim, hidden1, hidden2, out_dim):\n",
    "        super(Activation, self).__init__()\n",
    "        self.layer1 = nn.Sequential(nn.Linear(in_dim, hidden1), nn.ReLU(True))\n",
    "        self.layer2 = nn.Sequential(nn.Linear(hidden1, hidden2), nn.ReLU(True))\n",
    "        self.layer3 = nn.Sequential(nn.Linear(hidden2, out_dim))\n",
    "    \n",
    "    def forward(x):\n",
    "        out1 = self.layer1(x)\n",
    "        out2 = self.layer2(out1)\n",
    "        out = self.layer3(out2)\n",
    "        return out\n",
    "    \n",
    "# ADD batch norm in the neural network\n",
    "class Batch_Net(nn.Module):\n",
    "    def __init__(self, in_dim, hidden1, hidden2, out_dim):\n",
    "        super(Activation, self).__init__()\n",
    "        self.layer1 = nn.Sequential(nn.Linear(in_dim, hidden1), nn.BatchNorm1d(hidden1), nn.ReLU(True))\n",
    "        self.layer2 = nn.Sequential(nn.Linear(hidden1, hidden2), nn.BatchNorm1d(hidden2), nn.ReLU(True))\n",
    "        self.layer3 = nn.Sequential(nn.Linear(hidden2, out_dim))\n",
    "    \n",
    "    def forward(x):\n",
    "        out1 = self.layer1(x)\n",
    "        out2 = self.layer2(out1)\n",
    "        out = self.layer3(out2)\n",
    "        return out"
   ]
  }
 ],
 "metadata": {
  "kernelspec": {
   "display_name": "Python 3",
   "language": "python",
   "name": "python3"
  },
  "language_info": {
   "codemirror_mode": {
    "name": "ipython",
    "version": 3
   },
   "file_extension": ".py",
   "mimetype": "text/x-python",
   "name": "python",
   "nbconvert_exporter": "python",
   "pygments_lexer": "ipython3",
   "version": "3.7.4"
  }
 },
 "nbformat": 4,
 "nbformat_minor": 2
}
