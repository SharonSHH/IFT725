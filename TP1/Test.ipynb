{
 "cells": [
  {
   "cell_type": "code",
   "execution_count": 1,
   "metadata": {},
   "outputs": [],
   "source": [
    "import numpy as np"
   ]
  },
  {
   "cell_type": "code",
   "execution_count": 2,
   "metadata": {},
   "outputs": [],
   "source": [
    "a = [1, 2, 3]\n",
    "b = [[20, 25, 27],[29, 33, 40]]"
   ]
  },
  {
   "cell_type": "code",
   "execution_count": 3,
   "metadata": {},
   "outputs": [
    {
     "data": {
      "text/plain": [
       "array([ 2.71828183,  7.3890561 , 20.08553692])"
      ]
     },
     "execution_count": 3,
     "metadata": {},
     "output_type": "execute_result"
    }
   ],
   "source": [
    "np.exp(a)"
   ]
  },
  {
   "cell_type": "code",
   "execution_count": 4,
   "metadata": {},
   "outputs": [
    {
     "data": {
      "text/plain": [
       "array([[4.85165195e+08, 7.20048993e+10, 5.32048241e+11],\n",
       "       [3.93133430e+12, 2.14643580e+14, 2.35385267e+17]])"
      ]
     },
     "execution_count": 4,
     "metadata": {},
     "output_type": "execute_result"
    }
   ],
   "source": [
    "np.exp(b)"
   ]
  },
  {
   "cell_type": "code",
   "execution_count": 5,
   "metadata": {},
   "outputs": [
    {
     "data": {
      "text/plain": [
       "2.356044462894082e+17"
      ]
     },
     "execution_count": 5,
     "metadata": {},
     "output_type": "execute_result"
    }
   ],
   "source": [
    "np.sum(np.exp(b))"
   ]
  },
  {
   "cell_type": "code",
   "execution_count": 6,
   "metadata": {},
   "outputs": [
    {
     "data": {
      "text/plain": [
       "30.19287485057736"
      ]
     },
     "execution_count": 6,
     "metadata": {},
     "output_type": "execute_result"
    }
   ],
   "source": [
    "np.sum(np.exp(a))"
   ]
  },
  {
   "cell_type": "code",
   "execution_count": 7,
   "metadata": {},
   "outputs": [
    {
     "data": {
      "text/plain": [
       "array([0.0331204 , 0.06624079, 0.09936119])"
      ]
     },
     "execution_count": 7,
     "metadata": {},
     "output_type": "execute_result"
    }
   ],
   "source": [
    "a/np.sum(np.exp(a))"
   ]
  },
  {
   "cell_type": "code",
   "execution_count": 8,
   "metadata": {},
   "outputs": [
    {
     "data": {
      "text/plain": [
       "array([[40, 50, 54],\n",
       "       [58, 66, 80]])"
      ]
     },
     "execution_count": 8,
     "metadata": {},
     "output_type": "execute_result"
    }
   ],
   "source": [
    "2*np.array(b)"
   ]
  },
  {
   "cell_type": "code",
   "execution_count": 9,
   "metadata": {},
   "outputs": [],
   "source": [
    "import random\n",
    "import numpy as np\n",
    "from ift725.data_utils import load_CIFAR10\n",
    "import matplotlib.pyplot as plt\n",
    "%matplotlib inline\n",
    "plt.rcParams['figure.figsize'] = (10.0, 8.0) # set default size of plots\n",
    "plt.rcParams['image.interpolation'] = 'nearest'\n",
    "plt.rcParams['image.cmap'] = 'gray'\n",
    "\n",
    "# for auto-reloading extenrnal modules\n",
    "# see http://stackoverflow.com/questions/1907993/autoreload-of-modules-in-ipython\n",
    "%load_ext autoreload\n",
    "%autoreload 2"
   ]
  },
  {
   "cell_type": "code",
   "execution_count": 10,
   "metadata": {},
   "outputs": [
    {
     "name": "stdout",
     "output_type": "stream",
     "text": [
      "Train data shape:  (49000, 3073)\n",
      "Train labels shape:  (49000,)\n",
      "Validation data shape:  (1000, 3073)\n",
      "Validation labels shape:  (1000,)\n",
      "Test data shape:  (1000, 3073)\n",
      "Test labels shape:  (1000,)\n",
      "dev data shape:  (500, 3073)\n",
      "dev labels shape:  (500,)\n"
     ]
    }
   ],
   "source": [
    "def get_CIFAR10_data(num_training=49000, num_validation=1000, num_test=1000, num_dev=500):\n",
    "    \"\"\"\n",
    "    Load the CIFAR-10 dataset from disk and perform preprocessing to prepare\n",
    "    it for the linear classifier. These are the same steps as we used for the\n",
    "    SVM, but condensed to a single function.  \n",
    "    \"\"\"\n",
    "    # Load the raw CIFAR-10 data\n",
    "    cifar10_dir = 'ift725/datasets/cifar-10-batches-py'\n",
    "    X_train, y_train, X_test, y_test = load_CIFAR10(cifar10_dir)\n",
    "  \n",
    "    # subsample the data\n",
    "    mask = range(num_training, num_training + num_validation)\n",
    "    X_val = X_train[mask]\n",
    "    y_val = y_train[mask]\n",
    "    mask = range(num_training)\n",
    "    X_train = X_train[mask]\n",
    "    y_train = y_train[mask]\n",
    "    mask = range(num_test)\n",
    "    X_test = X_test[mask]\n",
    "    y_test = y_test[mask]\n",
    "    mask = np.random.choice(num_training, num_dev, replace=False)\n",
    "    X_dev = X_train[mask]\n",
    "    y_dev = y_train[mask]\n",
    "\n",
    "    # Preprocessing: reshape the image data into rows\n",
    "    X_train = np.reshape(X_train, (X_train.shape[0], -1))\n",
    "    X_val = np.reshape(X_val, (X_val.shape[0], -1))\n",
    "    X_test = np.reshape(X_test, (X_test.shape[0], -1))\n",
    "    X_dev = np.reshape(X_dev, (X_dev.shape[0], -1))\n",
    "\n",
    "    # Normalize the data: subtract the mean image\n",
    "    mean_image = np.mean(X_train, axis = 0)\n",
    "    X_train -= mean_image\n",
    "    X_val -= mean_image\n",
    "    X_test -= mean_image\n",
    "    X_dev -= mean_image\n",
    "\n",
    "    # add bias dimension and transform into columns\n",
    "    X_train = np.hstack([X_train, np.ones((X_train.shape[0], 1))])\n",
    "    X_val = np.hstack([X_val, np.ones((X_val.shape[0], 1))])\n",
    "    X_test = np.hstack([X_test, np.ones((X_test.shape[0], 1))])\n",
    "    X_dev = np.hstack([X_dev, np.ones((X_dev.shape[0], 1))])\n",
    "\n",
    "    return X_train, y_train, X_val, y_val, X_test, y_test, X_dev, y_dev\n",
    "\n",
    "\n",
    "# Invoke the above function to get our data.\n",
    "X_train, y_train, X_val, y_val, X_test, y_test, X_dev, y_dev = get_CIFAR10_data()\n",
    "print('Train data shape: ', X_train.shape)\n",
    "print('Train labels shape: ', y_train.shape)\n",
    "print('Validation data shape: ', X_val.shape)\n",
    "print('Validation labels shape: ', y_val.shape)\n",
    "print('Test data shape: ', X_test.shape)\n",
    "print('Test labels shape: ', y_test.shape)\n",
    "print('dev data shape: ', X_dev.shape)\n",
    "print('dev labels shape: ', y_dev.shape)"
   ]
  },
  {
   "cell_type": "code",
   "execution_count": 11,
   "metadata": {},
   "outputs": [],
   "source": [
    "from ift725.classifiers.softmax import softmax_naive_loss_function\n",
    "import time\n",
    "\n",
    "# Generate a random softmax weight matrix and use it to compute the loss.\n",
    "W = np.random.randn(3073, 10) * 0.0001"
   ]
  },
  {
   "cell_type": "code",
   "execution_count": 12,
   "metadata": {},
   "outputs": [],
   "source": [
    "loss = 0.0\n",
    "dW = np.zeros_like(W)"
   ]
  },
  {
   "cell_type": "code",
   "execution_count": 13,
   "metadata": {},
   "outputs": [],
   "source": [
    "X = X_dev \n",
    "loss = loss*0\n",
    "dW = dW*0\n",
    "for i in range(X.shape[0]):\n",
    "    score = np.dot(X[i], W)\n",
    "    scores = X[i].dot(W)\n"
   ]
  },
  {
   "cell_type": "code",
   "execution_count": 14,
   "metadata": {},
   "outputs": [],
   "source": [
    "scores = X.dot(W)    #(500, 3073) W:(3073, 10)"
   ]
  },
  {
   "cell_type": "code",
   "execution_count": 15,
   "metadata": {},
   "outputs": [
    {
     "data": {
      "text/plain": [
       "array([[-0.06789915,  0.03818789, -0.06511912, ..., -0.04686903,\n",
       "        -0.03390238, -0.22482216],\n",
       "       [ 0.42214871,  0.20394371,  0.52156072, ..., -0.8029443 ,\n",
       "        -0.38287595, -0.35250865],\n",
       "       [ 0.46443409, -0.32407803, -0.0042067 , ...,  0.26715697,\n",
       "         0.2867795 , -0.47205649],\n",
       "       ...,\n",
       "       [-0.14087122,  0.18566817, -0.03947593, ...,  0.25055737,\n",
       "         0.28615404,  0.16164036],\n",
       "       [ 0.79140096, -0.06721619, -0.22042473, ...,  0.29501253,\n",
       "         0.2485909 , -0.08184917],\n",
       "       [-0.45585104, -0.01388331, -0.05151171, ...,  0.61088984,\n",
       "        -0.32474096,  0.09636352]])"
      ]
     },
     "execution_count": 15,
     "metadata": {},
     "output_type": "execute_result"
    }
   ],
   "source": [
    "scores"
   ]
  },
  {
   "cell_type": "code",
   "execution_count": 16,
   "metadata": {},
   "outputs": [
    {
     "data": {
      "text/plain": [
       "array([1, 7, 5, 9, 8, 9, 2, 8, 0, 2, 3, 4, 1, 0, 4, 1, 5, 9, 7, 4, 1, 5,\n",
       "       6, 6, 6, 9, 1, 4, 8, 1, 8, 3, 1, 3, 5, 6, 6, 6, 4, 9, 3, 7, 9, 4,\n",
       "       7, 9, 3, 5, 4, 0, 3, 0, 2, 9, 3, 7, 3, 2, 9, 5, 1, 2, 2, 3, 7, 4,\n",
       "       6, 3, 1, 1, 7, 3, 0, 3, 7, 9, 1, 2, 7, 4, 4, 6, 5, 7, 3, 6, 6, 5,\n",
       "       4, 5, 2, 2, 1, 6, 4, 2, 2, 9, 6, 5, 5, 5, 7, 3, 5, 2, 5, 4, 2, 3,\n",
       "       8, 5, 3, 4, 6, 1, 1, 6, 3, 2, 5, 7, 9, 6, 6, 5, 0, 4, 3, 9, 4, 7,\n",
       "       1, 0, 6, 7, 6, 3, 0, 3, 1, 3, 6, 7, 0, 6, 5, 3, 7, 4, 8, 1, 5, 3,\n",
       "       4, 1, 9, 7, 3, 8, 9, 6, 1, 4, 3, 4, 7, 3, 1, 3, 5, 7, 6, 2, 7, 6,\n",
       "       3, 0, 1, 2, 2, 6, 7, 6, 6, 4, 5, 8, 1, 8, 7, 4, 7, 6, 7, 3, 8, 6,\n",
       "       3, 9, 9, 3, 2, 2, 9, 7, 9, 8, 5, 4, 7, 0, 0, 9, 7, 4, 4, 9, 4, 4,\n",
       "       9, 1, 5, 5, 5, 6, 9, 8, 4, 7, 4, 8, 0, 4, 7, 0, 3, 8, 1, 1, 1, 1,\n",
       "       1, 5, 7, 6, 9, 0, 9, 6, 5, 1, 1, 0, 6, 5, 2, 8, 0, 2, 5, 8, 8, 5,\n",
       "       0, 7, 8, 4, 8, 4, 2, 1, 9, 8, 8, 9, 8, 4, 9, 7, 6, 0, 8, 6, 9, 2,\n",
       "       0, 5, 6, 5, 4, 9, 2, 8, 7, 2, 6, 3, 6, 2, 0, 8, 3, 5, 6, 2, 0, 5,\n",
       "       7, 3, 0, 1, 2, 1, 2, 0, 1, 1, 5, 0, 6, 9, 8, 7, 0, 3, 2, 1, 6, 8,\n",
       "       0, 5, 8, 7, 8, 2, 4, 4, 5, 6, 2, 3, 0, 2, 1, 2, 1, 1, 8, 1, 0, 8,\n",
       "       3, 2, 0, 2, 3, 9, 2, 8, 9, 0, 4, 2, 4, 2, 8, 9, 1, 8, 7, 1, 5, 4,\n",
       "       1, 3, 0, 8, 1, 4, 8, 2, 5, 3, 2, 8, 7, 2, 1, 0, 8, 6, 7, 5, 1, 3,\n",
       "       6, 0, 8, 8, 6, 1, 2, 3, 6, 4, 3, 6, 2, 6, 0, 9, 4, 1, 3, 9, 3, 3,\n",
       "       9, 0, 2, 6, 6, 2, 1, 5, 8, 3, 5, 1, 8, 5, 9, 1, 4, 0, 0, 4, 7, 8,\n",
       "       9, 3, 6, 0, 1, 1, 9, 1, 3, 6, 2, 1, 4, 9, 8, 1, 3, 5, 8, 6, 4, 9,\n",
       "       6, 9, 5, 6, 4, 8, 0, 8, 9, 8, 8, 7, 3, 8, 6, 6, 9, 3, 5, 9, 3, 4,\n",
       "       8, 2, 1, 3, 5, 0, 3, 9, 6, 1, 8, 4, 5, 5, 3, 4])"
      ]
     },
     "execution_count": 16,
     "metadata": {},
     "output_type": "execute_result"
    }
   ],
   "source": [
    "y = y_dev\n",
    "y"
   ]
  },
  {
   "cell_type": "code",
   "execution_count": 17,
   "metadata": {},
   "outputs": [
    {
     "data": {
      "text/plain": [
       "(500,)"
      ]
     },
     "execution_count": 17,
     "metadata": {},
     "output_type": "execute_result"
    }
   ],
   "source": [
    "correct = scores[range(X.shape[0]), y]\n",
    "correct.shape"
   ]
  },
  {
   "cell_type": "code",
   "execution_count": 18,
   "metadata": {},
   "outputs": [
    {
     "data": {
      "text/plain": [
       "array([ 0.03818789, -0.8029443 , -0.2122885 , -0.22129068,  0.39125593])"
      ]
     },
     "execution_count": 18,
     "metadata": {},
     "output_type": "execute_result"
    }
   ],
   "source": [
    "correct[:5]"
   ]
  },
  {
   "cell_type": "code",
   "execution_count": 19,
   "metadata": {},
   "outputs": [
    {
     "data": {
      "text/plain": [
       "(500, 1)"
      ]
     },
     "execution_count": 19,
     "metadata": {},
     "output_type": "execute_result"
    }
   ],
   "source": [
    "correct = correct.reshape(X.shape[0], 1)\n",
    "correct.shape"
   ]
  },
  {
   "cell_type": "code",
   "execution_count": 20,
   "metadata": {},
   "outputs": [
    {
     "data": {
      "text/plain": [
       "array([[-1.10608704, -1.        , -1.10330701, ..., -1.08505692,\n",
       "        -1.07209027, -1.26301005],\n",
       "       [ 0.22509301,  0.00688801,  0.32450501, ..., -1.        ,\n",
       "        -0.57993165, -0.54956436],\n",
       "       [-0.32327741, -1.11178953, -0.7919182 , ..., -0.52055452,\n",
       "        -0.500932  , -1.25976798],\n",
       "       ...,\n",
       "       [-1.51514098, -1.1886016 , -1.4137457 , ..., -1.12371239,\n",
       "        -1.08811572, -1.2126294 ],\n",
       "       [ 0.44819646, -0.41042069, -0.56362923, ..., -0.04819196,\n",
       "        -0.09461359, -0.42505367],\n",
       "       [-1.48330182, -1.04133408, -1.07896249, ..., -0.41656094,\n",
       "        -1.35219174, -0.93108725]])"
      ]
     },
     "execution_count": 20,
     "metadata": {},
     "output_type": "execute_result"
    }
   ],
   "source": [
    "margin = scores - correct - 1\n",
    "margin"
   ]
  },
  {
   "cell_type": "code",
   "execution_count": 21,
   "metadata": {},
   "outputs": [],
   "source": [
    "dW = np.zeros(W.shape)\n",
    "margin[margin>0] = 1"
   ]
  },
  {
   "cell_type": "code",
   "execution_count": 23,
   "metadata": {},
   "outputs": [],
   "source": [
    "margin_count = np.sum(margin, axis=1)\n",
    "margin[range(X.shape[0]),y] -= margin_count"
   ]
  },
  {
   "cell_type": "code",
   "execution_count": 25,
   "metadata": {},
   "outputs": [
    {
     "data": {
      "text/plain": [
       "(500, 10)"
      ]
     },
     "execution_count": 25,
     "metadata": {},
     "output_type": "execute_result"
    }
   ],
   "source": [
    "margin.shape"
   ]
  },
  {
   "cell_type": "code",
   "execution_count": 26,
   "metadata": {},
   "outputs": [
    {
     "data": {
      "text/plain": [
       "array([[-1.10608704,  9.70757968, -1.10330701, ..., -1.08505692,\n",
       "        -1.07209027, -1.26301005],\n",
       "       [ 1.        ,  1.        ,  1.        , ..., -0.49363048,\n",
       "        -0.57993165, -0.54956436],\n",
       "       [-0.32327741, -1.11178953, -0.7919182 , ..., -0.52055452,\n",
       "        -0.500932  , -1.25976798],\n",
       "       ...,\n",
       "       [-1.51514098, -1.1886016 , -1.4137457 , ..., -1.12371239,\n",
       "        -1.08811572, -1.2126294 ],\n",
       "       [ 1.        , -0.41042069, -0.56362923, ..., -0.04819196,\n",
       "        -0.09461359, -0.42505367],\n",
       "       [-1.48330182, -1.04133408, -1.07896249, ..., -0.41656094,\n",
       "        -1.35219174, -0.93108725]])"
      ]
     },
     "execution_count": 26,
     "metadata": {},
     "output_type": "execute_result"
    }
   ],
   "source": [
    "margin"
   ]
  },
  {
   "cell_type": "code",
   "execution_count": 28,
   "metadata": {},
   "outputs": [],
   "source": [
    "dW = X.T.dot(margin)"
   ]
  },
  {
   "cell_type": "code",
   "execution_count": 30,
   "metadata": {},
   "outputs": [
    {
     "data": {
      "text/plain": [
       "array([[ 5.34743460e-01,  2.87943989e+00, -1.41735939e+01, ...,\n",
       "         1.06981454e+01,  1.16131906e+01,  1.17870880e+01],\n",
       "       [ 1.21843931e+01, -1.70214020e+00, -1.11924326e+01, ...,\n",
       "         1.43880817e+01,  2.44062649e+01,  1.68614163e+01],\n",
       "       [ 2.69095245e+01, -5.02383784e+00, -1.61449562e+01, ...,\n",
       "         2.13788916e+01,  4.01773702e+01,  2.96501844e+01],\n",
       "       ...,\n",
       "       [-1.40139783e+01, -1.49345313e+01, -1.97497964e-01, ...,\n",
       "         2.80404426e+01, -2.47861520e+01,  2.08844591e+01],\n",
       "       [-8.18335189e+00, -6.25317861e+00, -1.02692985e+01, ...,\n",
       "         1.57933472e+01, -5.78456473e+00,  2.57639283e+01],\n",
       "       [-2.90776033e-01,  1.31102499e-01, -2.42596006e-03, ...,\n",
       "        -1.32235808e-01, -4.75115865e-02, -1.60350528e-01]])"
      ]
     },
     "execution_count": 30,
     "metadata": {},
     "output_type": "execute_result"
    }
   ],
   "source": [
    "dW/X.shape[0]"
   ]
  },
  {
   "cell_type": "code",
   "execution_count": 31,
   "metadata": {},
   "outputs": [],
   "source": [
    "reg = 2e5\n",
    "dW += reg*2*W"
   ]
  },
  {
   "cell_type": "code",
   "execution_count": 32,
   "metadata": {},
   "outputs": [
    {
     "data": {
      "text/plain": [
       "array([[ 2.31984731e+02,  1.43526716e+03, -7.04251668e+03, ...,\n",
       "         5.35991837e+03,  5.85786137e+03,  5.94419573e+03],\n",
       "       [ 6.11783137e+03, -8.81501092e+02, -5.65456630e+03, ...,\n",
       "         7.26892024e+03,  1.22435432e+04,  8.43093056e+03],\n",
       "       [ 1.34090564e+04, -2.54470251e+03, -8.07685369e+03, ...,\n",
       "         1.06637777e+04,  2.00451987e+04,  1.47830186e+04],\n",
       "       ...,\n",
       "       [-6.99001360e+03, -7.48974264e+03, -4.32226925e+01, ...,\n",
       "         1.40319800e+04, -1.24053400e+04,  1.04523734e+04],\n",
       "       [-4.08006693e+03, -3.14575940e+03, -5.06468075e+03, ...,\n",
       "         7.86541837e+03, -2.85223920e+03,  1.28318082e+04],\n",
       "       [-1.63507295e+02,  5.24776269e+01,  3.73265410e+01, ...,\n",
       "         2.79738797e+00, -2.09069451e+01, -7.23187283e+00]])"
      ]
     },
     "execution_count": 32,
     "metadata": {},
     "output_type": "execute_result"
    }
   ],
   "source": [
    "dW"
   ]
  },
  {
   "cell_type": "code",
   "execution_count": null,
   "metadata": {},
   "outputs": [],
   "source": []
  }
 ],
 "metadata": {
  "kernelspec": {
   "display_name": "Python 3",
   "language": "python",
   "name": "python3"
  },
  "language_info": {
   "codemirror_mode": {
    "name": "ipython",
    "version": 3
   },
   "file_extension": ".py",
   "mimetype": "text/x-python",
   "name": "python",
   "nbconvert_exporter": "python",
   "pygments_lexer": "ipython3",
   "version": "3.7.4"
  }
 },
 "nbformat": 4,
 "nbformat_minor": 2
}
