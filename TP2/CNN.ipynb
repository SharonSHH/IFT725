{
 "cells": [
  {
   "cell_type": "markdown",
   "metadata": {},
   "source": [
    "# Réseau à convolution\n",
    "Jusqu'à présent, nous avons utilisé des réseaus multi-couches pleinement connectées.  Dans ce notebook, nous explorerons les réseaux à convolution, une architecture beaucoup plus adaptée à l'analyse d'images. "
   ]
  },
  {
   "cell_type": "code",
   "execution_count": 1,
   "metadata": {},
   "outputs": [],
   "source": [
    "# As usual, a bit of setup\n",
    "\n",
    "import numpy as np\n",
    "import matplotlib.pyplot as plt\n",
    "from ift725.classifiers.cnn import *\n",
    "from ift725.data_utils import get_CIFAR10_data\n",
    "from ift725.gradient_check import eval_numerical_gradient_array, eval_numerical_gradient\n",
    "from ift725.layers import *\n",
    "from ift725.solver import Solver\n",
    "\n",
    "%matplotlib inline\n",
    "plt.rcParams['figure.figsize'] = (10.0, 8.0) # set default size of plots\n",
    "plt.rcParams['image.interpolation'] = 'nearest'\n",
    "plt.rcParams['image.cmap'] = 'gray'\n",
    "\n",
    "# for auto-reloading external modules\n",
    "# see http://stackoverflow.com/questions/1907993/autoreload-of-modules-in-ipython\n",
    "%load_ext autoreload\n",
    "%autoreload 2\n",
    "\n",
    "def rel_error(x, y):\n",
    "  \"\"\" returns relative error \"\"\"\n",
    "  return np.max(np.abs(x - y) / (np.maximum(1e-8, np.abs(x) + np.abs(y))))"
   ]
  },
  {
   "cell_type": "code",
   "execution_count": 2,
   "metadata": {},
   "outputs": [
    {
     "name": "stdout",
     "output_type": "stream",
     "text": [
      "X_val:  (1000, 3, 32, 32)\n",
      "y_test:  (1000,)\n",
      "y_train:  (49000,)\n",
      "X_train:  (49000, 3, 32, 32)\n",
      "X_test:  (1000, 3, 32, 32)\n",
      "y_val:  (1000,)\n"
     ]
    }
   ],
   "source": [
    "# Load the (preprocessed) CIFAR10 data.\n",
    "\n",
    "data = get_CIFAR10_data()\n",
    "for k, v in data.items():\n",
    "  print('%s: ' % k, v.shape)"
   ]
  },
  {
   "cell_type": "markdown",
   "metadata": {},
   "source": [
    "# Convolution: propagation avant naïve\n",
    "Au coeur d'une CNN est l'opération de convolution. Dans le fichier `ift725/layers.py`, vous devez implanter une couche de convolution dans la function `forward_convolutional_naive`. \n",
    "\n",
    "Pas besoin que le code soit efficace; vous pouvez l'implanter de la façon qui vous semble la plus facile à comprendre.\n",
    "\n",
    "Les cellules que voici vous permettront de tester votre code:"
   ]
  },
  {
   "cell_type": "code",
   "execution_count": 3,
   "metadata": {},
   "outputs": [
    {
     "name": "stdout",
     "output_type": "stream",
     "text": [
      "Pixiedust database opened successfully\n"
     ]
    },
    {
     "data": {
      "text/html": [
       "\n",
       "        <div style=\"margin:10px\">\n",
       "            <a href=\"https://github.com/ibm-watson-data-lab/pixiedust\" target=\"_new\">\n",
       "                <img src=\"https://github.com/ibm-watson-data-lab/pixiedust/raw/master/docs/_static/pd_icon32.png\" style=\"float:left;margin-right:10px\"/>\n",
       "            </a>\n",
       "            <span>Pixiedust version 1.1.18</span>\n",
       "        </div>\n",
       "        "
      ],
      "text/plain": [
       "<IPython.core.display.HTML object>"
      ]
     },
     "metadata": {},
     "output_type": "display_data"
    }
   ],
   "source": [
    "import pixiedust"
   ]
  },
  {
   "cell_type": "code",
   "execution_count": 7,
   "metadata": {
    "pixiedust": {
     "displayParams": {}
    },
    "scrolled": true
   },
   "outputs": [
    {
     "name": "stdout",
     "output_type": "stream",
     "text": [
      "Input = \n",
      " [[[[-1. -1. -1.  0.]\n",
      "   [ 0.  1.  1.  1.]\n",
      "   [ 2.  2.  3.  3.]\n",
      "   [ 3.  4.  4.  5.]]]]\n",
      "Filter = \n",
      " [[[[-2. -1.]\n",
      "   [ 1.  3.]]]]\n",
      "Bias =  [-1.]\n",
      "[[[[5. 6. 5.]\n",
      "   [6. 7. 8.]\n",
      "   [8. 8. 9.]]]]\n",
      "Testing forward_convolutional_naive\n",
      "difference:  0.0\n"
     ]
    }
   ],
   "source": [
    "#%%pixie_debugger\n",
    "x_shape = (1, 1, 4, 4)  # (N=1 batch, C=1 channels, H=4 largeur du feature map, W=4 Hauteur du feature map)\n",
    "w_shape = (1, 1, 2, 2)  # (F=1 Nb feature maps en sortie, C=1 channels, HH=2 hauteur du filtre, WW=2 largeur du filtre)\n",
    "x = np.floor(10*np.linspace(-0.1, 0.5, num=np.prod(x_shape)).reshape(x_shape))\n",
    "w = np.floor(10*np.linspace(-0.2, 0.3, num=np.prod(w_shape)).reshape(w_shape))\n",
    "b = np.floor(10*np.linspace(-0.1, 0.2, num=w.shape[0]))\n",
    "\n",
    "correct_out = np.array([[[[5, 6, 5],\n",
    "                            [6, 7, 8],\n",
    "                            [8, 8, 9]]]])\n",
    "\n",
    "print('Input = \\n', x)\n",
    "print('Filter = \\n', w)\n",
    "print('Bias = ', b)\n",
    "conv_param = {'stride': 1, 'pad': 0}\n",
    "out, _ = forward_convolutional_naive(x, w, b, conv_param, True)\n",
    "print(out)\n",
    "\n",
    "# Compare your output to ours; difference should be around 1e-8\n",
    "print('Testing forward_convolutional_naive')\n",
    "print('difference: ', rel_error(out, correct_out))"
   ]
  },
  {
   "cell_type": "code",
   "execution_count": 8,
   "metadata": {},
   "outputs": [
    {
     "name": "stdout",
     "output_type": "stream",
     "text": [
      "Input = \n",
      " [[[[-1. -1. -1. -1.]\n",
      "   [-1. -1.  0.  0.]\n",
      "   [ 0.  0.  0.  1.]\n",
      "   [ 1.  1.  1.  1.]]\n",
      "\n",
      "  [[ 2.  2.  2.  2.]\n",
      "   [ 2.  3.  3.  3.]\n",
      "   [ 3.  3.  4.  4.]\n",
      "   [ 4.  4.  4.  5.]]]]\n",
      "Filter = \n",
      " [[[[-2. -2.]\n",
      "   [-1.  0.]]\n",
      "\n",
      "  [[ 0.  1.]\n",
      "   [ 2.  3.]]]]\n",
      "Bias =  [-1.]\n",
      "[[[[19. 21. 20.]\n",
      "   [21. 22. 22.]\n",
      "   [21. 22. 23.]]]]\n",
      "Testing forward_convolutional_naive\n",
      "difference:  0.0\n"
     ]
    }
   ],
   "source": [
    "from ift725.quick_layers import conv_forward_fast, conv_backward_fast\n",
    "\n",
    "x_shape = (1, 2, 4, 4)  # (N=1 batch, C=2 channels, H=4 largeur du feature map, W=4 Hauteur du feature map)\n",
    "w_shape = (1, 2, 2, 2)  # (F=1 Nb feature maps en sortie, C=2 channels, HH=2 hauteur du filtre, WW=2 largeur du filtre)\n",
    "x = np.floor(10*np.linspace(-0.1, 0.5, num=np.prod(x_shape)).reshape(x_shape))\n",
    "w = np.floor(10*np.linspace(-0.2, 0.3, num=np.prod(w_shape)).reshape(w_shape))\n",
    "b = np.floor(10*np.linspace(-0.1, 0.2, num=w.shape[0]))\n",
    "\n",
    "correct_out = np.array([[[[19, 21, 20],\n",
    "                            [21, 22, 22],\n",
    "                            [21, 22, 23]]]])\n",
    "\n",
    "print('Input = \\n', x)\n",
    "print('Filter = \\n', w)\n",
    "print('Bias = ', b)\n",
    "conv_param = {'stride': 1, 'pad': 0}\n",
    "out, _ = forward_convolutional_naive(x, w, b, conv_param, True)\n",
    "print(out)\n",
    "\n",
    "# Compare your output to ours; difference should be around 1e-8\n",
    "print('Testing forward_convolutional_naive')\n",
    "print('difference: ', rel_error(out, correct_out))"
   ]
  },
  {
   "cell_type": "code",
   "execution_count": 9,
   "metadata": {},
   "outputs": [
    {
     "name": "stdout",
     "output_type": "stream",
     "text": [
      "Input = \n",
      " [[[[-1. -1. -1. -1.]\n",
      "   [-1. -1.  0.  0.]\n",
      "   [ 0.  0.  0.  1.]\n",
      "   [ 1.  1.  1.  1.]]\n",
      "\n",
      "  [[ 2.  2.  2.  2.]\n",
      "   [ 2.  3.  3.  3.]\n",
      "   [ 3.  3.  4.  4.]\n",
      "   [ 4.  4.  4.  5.]]]]\n",
      "Filter = \n",
      " [[[[-2. -2. -2. -2.]\n",
      "   [-2. -2. -2. -1.]\n",
      "   [-1. -1. -1. -1.]\n",
      "   [-1.  0.  0.  0.]]\n",
      "\n",
      "  [[ 0.  0.  0.  1.]\n",
      "   [ 1.  1.  1.  1.]\n",
      "   [ 1.  2.  2.  2.]\n",
      "   [ 2.  2.  2.  3.]]]]\n",
      "Bias =  [-1.]\n",
      "[[[[52. 49.]\n",
      "   [37. 29.]]]]\n",
      "Testing forward_convolutional_naive\n",
      "difference:  0.0\n"
     ]
    }
   ],
   "source": [
    "from ift725.quick_layers import conv_forward_fast, conv_backward_fast\n",
    "\n",
    "x_shape = (1, 2, 4, 4)  # (N=1 batch, C=2 channels, H=4 largeur du feature map, W=4 Hauteur du feature map)\n",
    "w_shape = (1, 2, 4, 4)  # (F=1 Nb feature maps en sortie, C=2 channels, HH=4 hauteur du filtre, WW=4 largeur du filtre)\n",
    "x = np.floor(10*np.linspace(-0.1, 0.5, num=np.prod(x_shape)).reshape(x_shape))\n",
    "w = np.floor(10*np.linspace(-0.2, 0.3, num=np.prod(w_shape)).reshape(w_shape))\n",
    "b = np.floor(10*np.linspace(-0.1, 0.2, num=w.shape[0]))\n",
    "\n",
    "correct_out = np.array([[[[52, 49],\n",
    "                            [37, 29]]]])\n",
    "\n",
    "print('Input = \\n', x)\n",
    "print('Filter = \\n', w)\n",
    "print('Bias = ', b)\n",
    "conv_param = {'stride': 2, 'pad': 1}\n",
    "out, _ = forward_convolutional_naive(x, w, b, conv_param, True)\n",
    "print(out)\n",
    "\n",
    "# Compare your output to ours; difference should be around 1e-8\n",
    "print('Testing forward_convolutional_naive')\n",
    "print('difference: ', rel_error(out, correct_out))"
   ]
  },
  {
   "cell_type": "code",
   "execution_count": 10,
   "metadata": {},
   "outputs": [
    {
     "name": "stdout",
     "output_type": "stream",
     "text": [
      "Testing forward_convolutional_naive\n",
      "difference:  2.2121476417505994e-08\n"
     ]
    }
   ],
   "source": [
    "x_shape = (2, 3, 4, 4)  # (N=2 batch, C=3 channels, H=4 largeur du feature map, W=4 Hauteur du feature map)\n",
    "w_shape = (3, 3, 4, 4)  # (F=3 nb feature maps en sortie, C=3 channels, HH=4 hauteur du filtre, WW=4 largeur du filtre)\n",
    "x = np.linspace(-0.1, 0.5, num=np.prod(x_shape)).reshape(x_shape)\n",
    "w = np.linspace(-0.2, 0.3, num=np.prod(w_shape)).reshape(w_shape)\n",
    "b = np.linspace(-0.1, 0.2, num=3)\n",
    "\n",
    "conv_param = {'stride': 2, 'pad': 1}\n",
    "out, _ = forward_convolutional_naive(x, w, b, conv_param, True)\n",
    "correct_out = np.array([[[[[-0.08759809, -0.10987781],\n",
    "                           [-0.18387192, -0.2109216 ]],\n",
    "                          [[ 0.21027089,  0.21661097],\n",
    "                           [ 0.22847626,  0.23004637]],\n",
    "                          [[ 0.50813986,  0.54309974],\n",
    "                           [ 0.64082444,  0.67101435]]],\n",
    "                         [[[-0.98053589, -1.03143541],\n",
    "                           [-1.19128892, -1.24695841]],\n",
    "                          [[ 0.69108355,  0.66880383],\n",
    "                           [ 0.59480972,  0.56776003]],\n",
    "                          [[ 2.36270298,  2.36904306],\n",
    "                           [ 2.38090835,  2.38247847]]]]])\n",
    "\n",
    "\n",
    "# Compare your output to ours; difference should be around 1e-8\n",
    "print('Testing forward_convolutional_naive')\n",
    "print('difference: ', rel_error(out, correct_out))"
   ]
  },
  {
   "cell_type": "markdown",
   "metadata": {},
   "source": [
    "# Traiter une image pour valider une convolution\n",
    "\n",
    "On peut également valider son code en convoluant une image couleur.  Pour ce faire, la cellule que voici charge en mémoire deux images couleurs et définit deux filtres : une filtre de détection de contours et un filtre de conversion RGB->niveaux de gris. La convolution est par la suite appliquée à chaque image. "
   ]
  },
  {
   "cell_type": "code",
   "execution_count": 11,
   "metadata": {},
   "outputs": [
    {
     "data": {
      "image/png": "[encoded data removed]",
      "text/plain": [
       "<Figure size 432x288 with 6 Axes>"
      ]
     },
     "metadata": {
      "needs_background": "light"
     },
     "output_type": "display_data"
    }
   ],
   "source": [
    "from matplotlib.pyplot import imread\n",
    "from skimage.transform import resize\n",
    "\n",
    "kitten, puppy = imread('kitten.jpg'), imread('puppy.jpg')\n",
    "# kitten is wide, and puppy is already square\n",
    "d = kitten.shape[1] - kitten.shape[0]\n",
    "kitten_cropped = kitten[:, int(d/2):int(-d/2), :]\n",
    "\n",
    "img_size = 200   # Make this smaller if it runs too slow\n",
    "x = np.zeros((2, 3, img_size, img_size))\n",
    "x[0, :, :, :] = resize(puppy, (img_size, img_size)).transpose((2, 0, 1))\n",
    "x[1, :, :, :] = resize(kitten_cropped, (img_size, img_size)).transpose((2, 0, 1))\n",
    "\n",
    "# Set up a convolutional weights holding 2 filters, each 3x3\n",
    "w = np.zeros((2, 3, 3, 3))\n",
    "\n",
    "# The first filter converts the image to grayscale.\n",
    "# Set up the red, green, and blue channels of the filter.\n",
    "w[0, 0, :, :] = [[0, 0, 0], [0, 0.333, 0], [0, 0, 0]]\n",
    "w[0, 1, :, :] = [[0, 0, 0], [0, 0.334, 0], [0, 0, 0]]\n",
    "w[0, 2, :, :] = [[0, 0, 0], [0, 0.333, 0], [0, 0, 0]]\n",
    "\n",
    "# Second filter detects horizontal edges in the blue channel.\n",
    "w[1, 2, :, :] = [[1, 2, 1], [0, 0, 0], [-1, -2, -1]]\n",
    "\n",
    "# Vector of biases. We don't need any bias for the grayscale\n",
    "# filter, but for the edge detection filter we want to add 128\n",
    "# to each output so that nothing is negative.\n",
    "b = np.array([0, 128])\n",
    "\n",
    "# Compute the result of convolving each input in x with each filter in w,\n",
    "# offsetting by b, and storing the results in out.\n",
    "out, _ = forward_convolutional_naive(x, w, b, {'stride': 1, 'pad': 1})\n",
    "\n",
    "def imshow_noax(img, normalize=True):\n",
    "    \"\"\" Tiny helper to show images as uint8 and remove axis labels \"\"\"\n",
    "    if normalize:\n",
    "        img_max, img_min = np.max(img), np.min(img)\n",
    "        img = 255.0 * (img - img_min) / (img_max - img_min)\n",
    "    plt.imshow(img.astype('uint8'))\n",
    "    plt.gca().axis('off')\n",
    "\n",
    "# Show the original images and the results of the conv operation\n",
    "plt.subplot(2, 3, 1)\n",
    "imshow_noax(puppy, normalize=False)\n",
    "plt.title('Original image')\n",
    "plt.subplot(2, 3, 2)\n",
    "imshow_noax(out[0, 0])\n",
    "plt.title('Grayscale')\n",
    "plt.subplot(2, 3, 3)\n",
    "imshow_noax(out[0, 1])\n",
    "plt.title('Edges')\n",
    "plt.subplot(2, 3, 4)\n",
    "imshow_noax(kitten_cropped, normalize=False)\n",
    "plt.subplot(2, 3, 5)\n",
    "imshow_noax(out[1, 0])\n",
    "plt.subplot(2, 3, 6)\n",
    "imshow_noax(out[1, 1])\n",
    "plt.show()"
   ]
  },
  {
   "cell_type": "markdown",
   "metadata": {},
   "source": [
    "# Convolution: rétropropagation naïve\n",
    "Implémentez une rétropropagation convolutive naïve dans la fonction `backward_convolutional_naive` du fichier `ift725/layers.py`. Ici aussi, vous pouvez implémentez une solution simple non vectorisée."
   ]
  },
  {
   "cell_type": "markdown",
   "metadata": {},
   "source": [
    "# Question :\n",
    "\n",
    "Avant de commencer à coder, expliquez mathématiquement en quoi consiste le gradient d'une convolution par rapport aux variables x, w et b, à savoir les variables dx, dw et db dans le code.  Pour vous aider, vous pouvez vous référez au document que voici:\n",
    "\n",
    "Before starting to code, explain mathematically what the gradient of a convolution consists of with respect to the variables x, w and b, namely the variables dx, dw and db in the code. To help you, you can refer to the following document:\n",
    "https://becominghuman.ai/back-propagation-in-convolutional-neural-networks-intuition-and-code-714ef1c38199\n",
    "\n",
    "## Votre réponse : ...\n"
   ]
  },
  {
   "cell_type": "code",
   "execution_count": 12,
   "metadata": {},
   "outputs": [
    {
     "name": "stdout",
     "output_type": "stream",
     "text": [
      "Testing backward_convolutional_naive function\n",
      "dx error:  3.6375453283162294e-09\n",
      "dw error:  1.0518948789195452e-10\n",
      "db error:  0.6499755818056919\n"
     ]
    }
   ],
   "source": [
    "x = np.random.randn(4, 3, 5, 5)\n",
    "w = np.random.randn(2, 3, 3, 3)\n",
    "b = np.random.randn(2,)\n",
    "dout = np.random.randn(4, 2, 5, 5)\n",
    "conv_param = {'stride': 1, 'pad': 1}\n",
    "\n",
    "dx_num = eval_numerical_gradient_array(lambda x: forward_convolutional_naive(x, w, b, conv_param)[0], x, dout)\n",
    "dw_num = eval_numerical_gradient_array(lambda w: forward_convolutional_naive(x, w, b, conv_param)[0], w, dout)\n",
    "db_num = eval_numerical_gradient_array(lambda b: forward_convolutional_naive(x, w, b, conv_param)[0], b, dout)\n",
    "\n",
    "out, cache = forward_convolutional_naive(x, w, b, conv_param)\n",
    "dx, dw, db = backward_convolutional_naive(dout, cache)\n",
    "\n",
    "# Your errors should be around 1e-9'\n",
    "print('Testing backward_convolutional_naive function')\n",
    "print('dx error: ', rel_error(dx, dx_num))\n",
    "print('dw error: ', rel_error(dw, dw_num))\n",
    "print('db error: ', rel_error(db, db_num))\n"
   ]
  },
  {
   "cell_type": "markdown",
   "metadata": {},
   "source": [
    "# Max pooling: propagation avant naïve.\n",
    "Codez une propagation avant naïve pour l'opération de max-pooling avec la fonction `forward_max_pooling_naive` dans le fichier `ift725/layers.py`.  "
   ]
  },
  {
   "cell_type": "code",
   "execution_count": 14,
   "metadata": {},
   "outputs": [
    {
     "name": "stdout",
     "output_type": "stream",
     "text": [
      "Testing forward_max_pooling_naive function:\n",
      "difference:  4.1666665157267834e-08\n"
     ]
    }
   ],
   "source": [
    "x_shape = (2, 3, 4, 4)\n",
    "x = np.linspace(-0.3, 0.4, num=np.prod(x_shape)).reshape(x_shape)\n",
    "pool_param = {'pool_width': 2, 'pool_height': 2, 'stride': 2}\n",
    "\n",
    "out, _ = forward_max_pooling_naive(x, pool_param)\n",
    "\n",
    "correct_out = np.array([[[[-0.26315789, -0.24842105],\n",
    "                          [-0.20421053, -0.18947368]],\n",
    "                         [[-0.14526316, -0.13052632],\n",
    "                          [-0.08631579, -0.07157895]],\n",
    "                         [[-0.02736842, -0.01263158],\n",
    "                          [ 0.03157895,  0.04631579]]],\n",
    "                        [[[ 0.09052632,  0.10526316],\n",
    "                          [ 0.14947368,  0.16421053]],\n",
    "                         [[ 0.20842105,  0.22315789],\n",
    "                          [ 0.26736842,  0.28210526]],\n",
    "                         [[ 0.32631579,  0.34105263],\n",
    "                          [ 0.38526316,  0.4       ]]]])\n",
    "\n",
    "# Compare your output with ours. Difference should be around 1e-8.\n",
    "print('Testing forward_max_pooling_naive function:')\n",
    "print('difference: ', rel_error(out, correct_out))"
   ]
  },
  {
   "cell_type": "markdown",
   "metadata": {},
   "source": [
    "# Max pooling: rétropropagation naïve\n",
    "Codez la rétro-propagation de l'opération de max-pooling via la fonction `backward_max_pooling_naive` dans le fichier `ift725/layers.py`.\n",
    "\n",
    "Vous pouvez tester votre code avec la cellule que voici:"
   ]
  },
  {
   "cell_type": "code",
   "execution_count": 15,
   "metadata": {},
   "outputs": [
    {
     "name": "stdout",
     "output_type": "stream",
     "text": [
      "intput x = \n",
      " [[[[ 1.1538985   0.47173302 -0.57458756  0.00897106]\n",
      "   [ 0.76685177  0.91042478 -0.37107544 -0.04939211]\n",
      "   [-0.91169339  1.32549523  1.10842163 -0.73481236]\n",
      "   [ 0.01152044 -1.47638153 -2.02559813 -0.15092899]]]]\n",
      "max_pool(x) = \n",
      " [[[[1.1538985  0.00897106]\n",
      "   [1.32549523 1.10842163]]]]\n",
      "upcoming gradient = \n",
      " [[[[0.23958561 0.09585243]\n",
      "   [0.02272747 0.12025274]]]]\n",
      "gradient num = \n",
      " [[[[0.23958561 0.         0.         0.09585243]\n",
      "   [0.         0.         0.         0.        ]\n",
      "   [0.         0.02272747 0.12025274 0.        ]\n",
      "   [0.         0.         0.         0.        ]]]]\n",
      "gradient naive = \n",
      " [[[[0.23958561 0.         0.         0.09585243]\n",
      "   [0.         0.         0.         0.        ]\n",
      "   [0.         0.02272747 0.12025274 0.        ]\n",
      "   [0.         0.         0.         0.        ]]]]\n",
      "Testing backward_max_pooling_naive function:\n",
      "dx error:  3.2756094488463776e-12\n"
     ]
    }
   ],
   "source": [
    "x = np.random.randn(1, 1, 4, 4)  # (N=1 batch, C=1 channels, H=4 largeur du feature map, W=4 Hauteur du feature map)\n",
    "dout = np.random.randn(1, 1, 2, 2)  # (N=1 batch, C=1 channels, H=2 largeur du feature map, W=2 Hauteur du feature map)\n",
    "\n",
    "pool_param = {'pool_height': 2, 'pool_width': 2, 'stride': 2}\n",
    "\n",
    "dx_num = eval_numerical_gradient_array(lambda x: forward_max_pooling_naive(x, pool_param)[0], x, dout)\n",
    "\n",
    "out, cache = forward_max_pooling_naive(x, pool_param)\n",
    "dx = backward_max_pooling_naive(dout, cache)\n",
    "\n",
    "print('intput x = \\n', x)\n",
    "print('max_pool(x) = \\n', out)\n",
    "print('upcoming gradient = \\n', dout)\n",
    "print('gradient num = \\n', dx_num)\n",
    "print('gradient naive = \\n', dx)\n",
    "\n",
    "# Your error should be around 1e-12\n",
    "print('Testing backward_max_pooling_naive function:')\n",
    "print('dx error: ', rel_error(dx, dx_num))"
   ]
  },
  {
   "cell_type": "code",
   "execution_count": 16,
   "metadata": {},
   "outputs": [
    {
     "name": "stdout",
     "output_type": "stream",
     "text": [
      "Testing backward_max_pooling_naive function:\n",
      "dx error:  3.275623366933989e-12\n"
     ]
    }
   ],
   "source": [
    "x = np.random.randn(3, 2, 8, 8) # (N=3 batch, C=2 channels, H=8 largeur du feature map, W=8 Hauteur du feature map)\n",
    "dout = np.random.randn(3, 2, 4, 4)\n",
    "pool_param = {'pool_height': 2, 'pool_width': 2, 'stride': 2}\n",
    "\n",
    "dx_num = eval_numerical_gradient_array(lambda x: forward_max_pooling_naive(x, pool_param)[0], x, dout)\n",
    "\n",
    "out, cache = forward_max_pooling_naive(x, pool_param)\n",
    "dx = backward_max_pooling_naive(dout, cache)\n",
    "\n",
    "# Your error should be around 1e-12\n",
    "print('Testing backward_max_pooling_naive function:')\n",
    "print('dx error: ', rel_error(dx, dx_num))"
   ]
  },
  {
   "cell_type": "markdown",
   "metadata": {},
   "source": [
    "# Convolution : version rapide\n",
    "Afin de vous simplifier la vie (car nous sommes gentils après tout!) nous vous fournissons le code pour effectuer une convolution et des opération de pooling rapidement via le fichier `ift725/quick_layers.py`.\n",
    "\n",
    "Cette version de la convolution provient d'un code Cython que vous pouvez compiler comme suit:\n",
    "\n",
    "```bash\n",
    "python setup.py build_ext --inplace\n",
    "```\n",
    "\n",
    "L'API des fonctions rapide est la même que celle des fonctions que vous avez implémenté au paravant: la propagation avant reçoit en entrée une mini-batch de données `x`, des poids `w`, `b`  et des paramètres et produit une sortie `out` ainsi qu'une `cache` pour la rétropropagation.  La rétropropagation quant à elle reçoit en entrée un gradient provenant de la fin de réseau `dout` ainsi que l'objet `cache` et retourne les gradients par rapport aux données (`dx`), aux poids (`dw`) et au biais (`bd`).\n",
    "\n",
    "Vous pouvez comparer la différence en temps de calcul entre la version naïve et optimisée de ces fonction avec la cellule que voici:"
   ]
  },
  {
   "cell_type": "code",
   "execution_count": 17,
   "metadata": {},
   "outputs": [
    {
     "name": "stdout",
     "output_type": "stream",
     "text": [
      "Testing conv_forward_fast:\n",
      "Naive: 2.688166s\n",
      "Fast: 0.013273s\n",
      "Speedup: 202.536187x\n",
      "Difference:  1.886935357138065e-11\n",
      "\n",
      "Testing conv_backward_fast:\n",
      "Naive: 6.852924s\n",
      "Fast: 0.005031s\n",
      "Speedup: 1362.045586x\n",
      "dx difference:  6.393803345835635e-11\n",
      "dw difference:  8.113984984223029e-13\n",
      "db difference:  1.0\n"
     ]
    }
   ],
   "source": [
    "from ift725.quick_layers import conv_forward_fast, conv_backward_fast\n",
    "from time import time\n",
    "\n",
    "x = np.random.randn(100, 3, 31, 31)\n",
    "w = np.random.randn(25, 3, 3, 3)\n",
    "b = np.random.randn(25,)\n",
    "dout = np.random.randn(100, 25, 16, 16)\n",
    "conv_param = {'stride': 2, 'pad': 1}\n",
    "\n",
    "t0 = time()\n",
    "out_naive, cache_naive = forward_convolutional_naive(x, w, b, conv_param)\n",
    "t1 = time()\n",
    "out_fast, cache_fast = conv_forward_fast(x, w, b, conv_param)\n",
    "t2 = time()\n",
    "\n",
    "print('Testing conv_forward_fast:')\n",
    "print('Naive: %fs' % (t1 - t0))\n",
    "print('Fast: %fs' % (t2 - t1))\n",
    "print('Speedup: %fx' % ((t1 - t0) / (t2 - t1)))\n",
    "print('Difference: ', rel_error(out_naive, out_fast))\n",
    "\n",
    "t0 = time()\n",
    "dx_naive, dw_naive, db_naive = backward_convolutional_naive(dout, cache_naive)\n",
    "t1 = time()\n",
    "dx_fast, dw_fast, db_fast = conv_backward_fast(dout, cache_fast)\n",
    "t2 = time()\n",
    "\n",
    "print('\\nTesting conv_backward_fast:')\n",
    "print('Naive: %fs' % (t1 - t0))\n",
    "print('Fast: %fs' % (t2 - t1))\n",
    "print('Speedup: %fx' % ((t1 - t0) / (t2 - t1)))\n",
    "print('dx difference: ', rel_error(dx_naive, dx_fast))\n",
    "print('dw difference: ', rel_error(dw_naive, dw_fast))\n",
    "print('db difference: ', rel_error(db_naive, db_fast))"
   ]
  },
  {
   "cell_type": "code",
   "execution_count": 18,
   "metadata": {},
   "outputs": [
    {
     "name": "stdout",
     "output_type": "stream",
     "text": [
      "Testing pool_forward_fast:\n",
      "Naive: 0.114987s\n",
      "fast: 0.001410s\n",
      "speedup: 81.550727x\n",
      "difference:  0.0\n",
      "\n",
      "Testing pool_backward_fast:\n",
      "Naive: 0.398832s\n",
      "fast: 0.007156s\n",
      "speedup: 55.734790x\n",
      "dx difference:  0.0\n",
      "\n",
      "naive 0.5138194561004639\n",
      "fast 0.008565902709960938\n",
      "naive/fast 59.984274103763084\n"
     ]
    }
   ],
   "source": [
    "from ift725.quick_layers import max_pool_forward_fast, max_pool_backward_fast\n",
    "\n",
    "x = np.random.randn(100, 3, 32, 32)\n",
    "dout = np.random.randn(100, 3, 16, 16)\n",
    "pool_param = {'pool_height': 2, 'pool_width': 2, 'stride': 2}\n",
    "\n",
    "t0 = time()\n",
    "out_naive, cache_naive = forward_max_pooling_naive(x, pool_param)\n",
    "t1 = time()\n",
    "out_fast, cache_fast = max_pool_forward_fast(x, pool_param)\n",
    "t2 = time()\n",
    "\n",
    "print('Testing pool_forward_fast:')\n",
    "print('Naive: %fs' % (t1 - t0))\n",
    "print('fast: %fs' % (t2 - t1))\n",
    "print('speedup: %fx' % ((t1 - t0) / (t2 - t1)))\n",
    "print('difference: ', rel_error(out_naive, out_fast))\n",
    "naive = t1 - t0\n",
    "fast = t2 - t1\n",
    "t0 = time()\n",
    "dx_naive = backward_max_pooling_naive(dout, cache_naive)\n",
    "t1 = time()\n",
    "dx_fast = max_pool_backward_fast(dout, cache_fast)\n",
    "t2 = time()\n",
    "\n",
    "print('\\nTesting pool_backward_fast:')\n",
    "print('Naive: %fs' % (t1 - t0))\n",
    "print('fast: %fs' % (t2 - t1))\n",
    "print('speedup: %fx' % ((t1 - t0) / (t2 - t1)))\n",
    "print('dx difference: ', rel_error(dx_naive, dx_fast))\n",
    "naive += t1 - t0\n",
    "fast += t2 - t1\n",
    "\n",
    "print('\\nnaive', naive)\n",
    "print('fast', fast)\n",
    "print('naive/fast', naive/fast)"
   ]
  },
  {
   "cell_type": "markdown",
   "metadata": {},
   "source": [
    "# Couches convolutives \"combo\"\n",
    "Nous avons utilisé des couches \"combo\" en combinant plusieurs opérations en une. Dans le fichier `ift725/layer_combo.py` le code de quelques opérations \"combo\" vous est fourni alors que d'autres ne l'est pas; à vous de le rédiger.  Vous pouvez tester votre code à l'aide des cellules que voici:"
   ]
  },
  {
   "cell_type": "code",
   "execution_count": 19,
   "metadata": {},
   "outputs": [
    {
     "name": "stdout",
     "output_type": "stream",
     "text": [
      "Testing convolutional_relu:\n",
      "dx error:  2.5350022616223115e-08\n",
      "dw error:  2.7986584644607767e-09\n",
      "db error:  1.0470272000303057e-10\n"
     ]
    }
   ],
   "source": [
    "from ift725.layer_combo import forward_convolutional_relu, backward_convolutional_relu\n",
    "\n",
    "x = np.random.randn(2, 3, 8, 8)\n",
    "w = np.random.randn(3, 3, 3, 3)\n",
    "b = np.random.randn(3,)\n",
    "dout = np.random.randn(2, 3, 8, 8)\n",
    "conv_param = {'stride': 1, 'pad': 1}\n",
    "\n",
    "out, cache = forward_convolutional_relu(x, w, b, conv_param)\n",
    "dx, dw, db = backward_convolutional_relu(dout, cache)\n",
    "\n",
    "dx_num = eval_numerical_gradient_array(lambda x: forward_convolutional_relu(x, w, b, conv_param)[0], x, dout)\n",
    "dw_num = eval_numerical_gradient_array(lambda w: forward_convolutional_relu(x, w, b, conv_param)[0], w, dout)\n",
    "db_num = eval_numerical_gradient_array(lambda b: forward_convolutional_relu(x, w, b, conv_param)[0], b, dout)\n",
    "\n",
    "print('Testing convolutional_relu:')\n",
    "print('dx error: ', rel_error(dx_num, dx))\n",
    "print('dw error: ', rel_error(dw_num, dw))\n",
    "print('db error: ', rel_error(db_num, db))"
   ]
  },
  {
   "cell_type": "code",
   "execution_count": 20,
   "metadata": {},
   "outputs": [
    {
     "name": "stdout",
     "output_type": "stream",
     "text": [
      "Testing convolutional_relu_pool\n",
      "dx error:  6.140886560409279e-09\n",
      "dw error:  3.0002251677249073e-10\n",
      "db error:  5.223159101544312e-11\n"
     ]
    }
   ],
   "source": [
    "from ift725.layer_combo import forward_convolutional_relu_pool, backward_convolutional_relu_pool\n",
    "\n",
    "x = np.random.randn(2, 3, 16, 16)\n",
    "w = np.random.randn(3, 3, 3, 3)\n",
    "b = np.random.randn(3,)\n",
    "dout = np.random.randn(2, 3, 8, 8)\n",
    "conv_param = {'stride': 1, 'pad': 1}\n",
    "pool_param = {'pool_height': 2, 'pool_width': 2, 'stride': 2}\n",
    "\n",
    "out, cache = forward_convolutional_relu_pool(x, w, b, conv_param, pool_param)\n",
    "dx, dw, db = backward_convolutional_relu_pool(dout, cache)\n",
    "\n",
    "dx_num = eval_numerical_gradient_array(lambda x: forward_convolutional_relu_pool(x, w, b, conv_param, pool_param)[0], x, dout)\n",
    "dw_num = eval_numerical_gradient_array(lambda w: forward_convolutional_relu_pool(x, w, b, conv_param, pool_param)[0], w, dout)\n",
    "db_num = eval_numerical_gradient_array(lambda b: forward_convolutional_relu_pool(x, w, b, conv_param, pool_param)[0], b, dout)\n",
    "\n",
    "print('Testing convolutional_relu_pool')\n",
    "print('dx error: ', rel_error(dx_num, dx))\n",
    "print('dw error: ', rel_error(dw_num, dw))\n",
    "print('db error: ', rel_error(db_num, db))"
   ]
  },
  {
   "cell_type": "markdown",
   "metadata": {},
   "source": [
    "# ConvNet à trois couches\n",
    "Maintenant que toutes les couches ont été codées, vous pouvez les combiner et créer un réseau à convolution à trois couches.\n",
    "\n",
    "Dans le fichier `ift725/cnn.py`, complétez le code de la classe `ThreeLayerConvolutionalNet`. Utilisez les cellules que voici pour débugger votre code:"
   ]
  },
  {
   "cell_type": "markdown",
   "metadata": {},
   "source": [
    "## Vérification dilligente de la fonction de perte\n",
    "Après avoir compléter le code de votre réseau, une des premières chose à faire est de valider la fonction de perte. Comme d'habitude, lorsqu'on initialise un réseau avec des poids aléatoire, on s'attends à ce que la perte d'une entropie croisée (sans régularisation) soit d'environ `-log(1/nb_classes)`. Avec la régularisation, la perte devrait être un peu plus élevée."
   ]
  },
  {
   "cell_type": "code",
   "execution_count": 34,
   "metadata": {
    "pixiedust": {
     "displayParams": {}
    }
   },
   "outputs": [
    {
     "name": "stdout",
     "output_type": "stream",
     "text": [
      "Initial loss (no regularization):  2.302657427103058\n",
      "Initial loss (with regularization):  43.48375636509134\n"
     ]
    }
   ],
   "source": [
    "model = ThreeLayerConvolutionalNet()\n",
    "\n",
    "N = 50\n",
    "X = np.random.randn(N, 3, 32, 32)\n",
    "y = np.random.randint(10, size=N)\n",
    "\n",
    "loss, grads = model.loss(X, y)\n",
    "print('Initial loss (no regularization): ', loss)\n",
    "\n",
    "model.reg = 0.5\n",
    "loss, grads = model.loss(X, y)\n",
    "print('Initial loss (with regularization): ', loss)"
   ]
  },
  {
   "cell_type": "markdown",
   "metadata": {},
   "source": [
    "## Vérification du gradient\n",
    "Une fois que la perte fonctionne, comme d'habitude on vérifier les fonctions de rétro-propagation à l'aide d'un gradient numérique."
   ]
  },
  {
   "cell_type": "code",
   "execution_count": 35,
   "metadata": {},
   "outputs": [
    {
     "name": "stdout",
     "output_type": "stream",
     "text": [
      "W1 max relative error: 7.410193e-06\n",
      "W2 max relative error: 1.035910e-04\n",
      "W3 max relative error: 6.794811e-07\n",
      "b1 max relative error: 2.163013e-06\n",
      "b2 max relative error: 2.146803e-07\n",
      "b3 max relative error: 8.872855e-09\n"
     ]
    }
   ],
   "source": [
    "num_inputs = 2\n",
    "input_dim = (3, 16, 16)  # this is like a batch of 2 RGB images of size 16x16 \n",
    "reg = 0.0\n",
    "num_classes = 10\n",
    "X = np.random.randn(num_inputs, *input_dim)*10\n",
    "y = np.random.randint(num_classes, size=num_inputs)\n",
    "\n",
    "model = ThreeLayerConvolutionalNet(num_filters=3, filter_size=3,\n",
    "                          input_dim=input_dim, hidden_dim=7, reg=reg,\n",
    "                          dtype=np.float64)\n",
    "loss, grads = model.loss(X, y)\n",
    "\n",
    "#Should be lower than 1e-03\n",
    "for param_name in sorted(grads):\n",
    "    f = lambda _: model.loss(X, y)[0]\n",
    "    param_grad_num = eval_numerical_gradient(f, model.params[param_name], verbose=False, h=1e-7)    \n",
    "    e = rel_error(param_grad_num, grads[param_name])\n",
    "    print('%s max relative error: %e' % (param_name, rel_error(param_grad_num, grads[param_name])))"
   ]
  },
  {
   "cell_type": "markdown",
   "metadata": {},
   "source": [
    "## Sur-apprendre un petit ensemble de données\n",
    "Une façon simple que votre réseau fonctionne bien, il est d'usage de s'assurer que le réseau est capable de sur-apprendre un petit ensemble de donnnées.  Après 10 epochs, votre réseau devrait avoir une justesse d'entraînement de plus de 85% mais une justesse de validation de moins de 25%. "
   ]
  },
  {
   "cell_type": "code",
   "execution_count": 36,
   "metadata": {},
   "outputs": [
    {
     "name": "stdout",
     "output_type": "stream",
     "text": [
      "(Iteration 1 / 40) loss: 2.159977\n",
      "(Epoch 0 / 10) train acc: 0.200000; val_acc: 0.154000\n",
      "(Iteration 2 / 40) loss: 4.128554\n",
      "(Iteration 3 / 40) loss: 4.320264\n",
      "(Iteration 4 / 40) loss: 3.035275\n",
      "(Epoch 1 / 10) train acc: 0.325000; val_acc: 0.116000\n",
      "(Iteration 5 / 40) loss: 2.135617\n",
      "(Iteration 6 / 40) loss: 1.555232\n",
      "(Iteration 7 / 40) loss: 2.447973\n",
      "(Iteration 8 / 40) loss: 2.027441\n",
      "(Epoch 2 / 10) train acc: 0.325000; val_acc: 0.148000\n",
      "(Iteration 9 / 40) loss: 1.696702\n",
      "(Iteration 10 / 40) loss: 3.032082\n",
      "(Iteration 11 / 40) loss: 1.884424\n",
      "(Iteration 12 / 40) loss: 1.999695\n",
      "(Epoch 3 / 10) train acc: 0.475000; val_acc: 0.119000\n",
      "(Iteration 13 / 40) loss: 1.656328\n",
      "(Iteration 14 / 40) loss: 2.229631\n",
      "(Iteration 15 / 40) loss: 1.364466\n",
      "(Iteration 16 / 40) loss: 1.894988\n",
      "(Epoch 4 / 10) train acc: 0.625000; val_acc: 0.150000\n",
      "(Iteration 17 / 40) loss: 1.246490\n",
      "(Iteration 18 / 40) loss: 1.530021\n",
      "(Iteration 19 / 40) loss: 0.968933\n",
      "(Iteration 20 / 40) loss: 0.800874\n",
      "(Epoch 5 / 10) train acc: 0.600000; val_acc: 0.158000\n",
      "(Iteration 21 / 40) loss: 1.082548\n",
      "(Iteration 22 / 40) loss: 0.596664\n",
      "(Iteration 23 / 40) loss: 0.669539\n",
      "(Iteration 24 / 40) loss: 0.494412\n",
      "(Epoch 6 / 10) train acc: 0.725000; val_acc: 0.148000\n",
      "(Iteration 25 / 40) loss: 1.740762\n",
      "(Iteration 26 / 40) loss: 1.218540\n",
      "(Iteration 27 / 40) loss: 0.432279\n",
      "(Iteration 28 / 40) loss: 0.477181\n",
      "(Epoch 7 / 10) train acc: 0.850000; val_acc: 0.174000\n",
      "(Iteration 29 / 40) loss: 0.584831\n",
      "(Iteration 30 / 40) loss: 0.706400\n",
      "(Iteration 31 / 40) loss: 0.066353\n",
      "(Iteration 32 / 40) loss: 0.125260\n",
      "(Epoch 8 / 10) train acc: 0.800000; val_acc: 0.192000\n",
      "(Iteration 33 / 40) loss: 0.521303\n",
      "(Iteration 34 / 40) loss: 0.453813\n",
      "(Iteration 35 / 40) loss: 0.189210\n",
      "(Iteration 36 / 40) loss: 0.161994\n",
      "(Epoch 9 / 10) train acc: 0.900000; val_acc: 0.161000\n",
      "(Iteration 37 / 40) loss: 0.320698\n",
      "(Iteration 38 / 40) loss: 0.289570\n",
      "(Iteration 39 / 40) loss: 0.035473\n",
      "(Iteration 40 / 40) loss: 0.489525\n",
      "(Epoch 10 / 10) train acc: 0.950000; val_acc: 0.167000\n"
     ]
    }
   ],
   "source": [
    "num_train = 40\n",
    "small_data = {\n",
    "  'X_train': data['X_train'][:num_train],\n",
    "  'y_train': data['y_train'][:num_train],\n",
    "  'X_val': data['X_val'],\n",
    "  'y_val': data['y_val'],\n",
    "}\n",
    "\n",
    "model = ThreeLayerConvolutionalNet(weight_scale=1e-2)\n",
    "\n",
    "solver = Solver(model, small_data,\n",
    "                num_epochs=10, batch_size=10,\n",
    "                update_rule='adam',\n",
    "                optim_config={\n",
    "                  'learning_rate': 1e-3,\n",
    "                },\n",
    "                verbose=True, print_every=1)\n",
    "solver.train()"
   ]
  },
  {
   "cell_type": "markdown",
   "metadata": {},
   "source": [
    "Affichage des courbes"
   ]
  },
  {
   "cell_type": "code",
   "execution_count": 37,
   "metadata": {},
   "outputs": [
    {
     "data": {
      "image/png": "[encoded data removed]",
      "text/plain": [
       "<Figure size 432x288 with 2 Axes>"
      ]
     },
     "metadata": {
      "needs_background": "light"
     },
     "output_type": "display_data"
    }
   ],
   "source": [
    "plt.subplot(2, 1, 1)\n",
    "plt.plot(solver.loss_history, 'o')\n",
    "plt.xlabel('iteration')\n",
    "plt.ylabel('loss')\n",
    "\n",
    "plt.subplot(2, 1, 2)\n",
    "plt.plot(solver.train_acc_history, '-o')\n",
    "plt.plot(solver.val_acc_history, '-o')\n",
    "plt.legend(['train', 'val'], loc='upper left')\n",
    "plt.xlabel('epoch')\n",
    "plt.ylabel('accuracy')\n",
    "plt.show()"
   ]
  },
  {
   "cell_type": "markdown",
   "metadata": {},
   "source": [
    "## Entraîner un réseau à convolution\n",
    "Entraîner un CNN à trois couches. Après 1 epoch, vous devriez atteindre une justesse d'au moins 40% en validation.  La justesse devrait atteindre 60% après 10 epochs.  Mais attention, l'entraînement peut prendre plusieurs minutes."
   ]
  },
  {
   "cell_type": "code",
   "execution_count": 38,
   "metadata": {
    "scrolled": false
   },
   "outputs": [
    {
     "name": "stdout",
     "output_type": "stream",
     "text": [
      "(Iteration 1 / 9800) loss: 2.306663\n",
      "(Epoch 0 / 10) train acc: 0.155000; val_acc: 0.146000\n",
      "(Iteration 201 / 9800) loss: 1.676847\n",
      "(Iteration 401 / 9800) loss: 1.731486\n",
      "(Iteration 601 / 9800) loss: 1.702824\n",
      "(Iteration 801 / 9800) loss: 1.665735\n",
      "(Epoch 1 / 10) train acc: 0.490000; val_acc: 0.476000\n",
      "(Iteration 1001 / 9800) loss: 1.499890\n",
      "(Iteration 1201 / 9800) loss: 1.703722\n",
      "(Iteration 1401 / 9800) loss: 1.572794\n",
      "(Iteration 1601 / 9800) loss: 1.228610\n",
      "(Iteration 1801 / 9800) loss: 1.377885\n",
      "(Epoch 2 / 10) train acc: 0.497000; val_acc: 0.507000\n",
      "(Iteration 2001 / 9800) loss: 1.456554\n",
      "(Iteration 2201 / 9800) loss: 1.366452\n",
      "(Iteration 2401 / 9800) loss: 1.232016\n",
      "(Iteration 2601 / 9800) loss: 1.454936\n",
      "(Iteration 2801 / 9800) loss: 1.845696\n",
      "(Epoch 3 / 10) train acc: 0.572000; val_acc: 0.574000\n",
      "(Iteration 3001 / 9800) loss: 1.055951\n",
      "(Iteration 3201 / 9800) loss: 1.276429\n",
      "(Iteration 3401 / 9800) loss: 1.381773\n",
      "(Iteration 3601 / 9800) loss: 1.410143\n",
      "(Iteration 3801 / 9800) loss: 1.376471\n",
      "(Epoch 4 / 10) train acc: 0.555000; val_acc: 0.525000\n",
      "(Iteration 4001 / 9800) loss: 1.427556\n",
      "(Iteration 4201 / 9800) loss: 1.347098\n",
      "(Iteration 4401 / 9800) loss: 1.364562\n",
      "(Iteration 4601 / 9800) loss: 1.222477\n",
      "(Iteration 4801 / 9800) loss: 1.042221\n",
      "(Epoch 5 / 10) train acc: 0.610000; val_acc: 0.576000\n",
      "(Iteration 5001 / 9800) loss: 0.939176\n",
      "(Iteration 5201 / 9800) loss: 1.424964\n",
      "(Iteration 5401 / 9800) loss: 1.367233\n",
      "(Iteration 5601 / 9800) loss: 1.086503\n",
      "(Iteration 5801 / 9800) loss: 1.602238\n",
      "(Epoch 6 / 10) train acc: 0.592000; val_acc: 0.567000\n",
      "(Iteration 6001 / 9800) loss: 1.542301\n",
      "(Iteration 6201 / 9800) loss: 1.398039\n",
      "(Iteration 6401 / 9800) loss: 1.008034\n",
      "(Iteration 6601 / 9800) loss: 1.227666\n",
      "(Iteration 6801 / 9800) loss: 1.275911\n",
      "(Epoch 7 / 10) train acc: 0.625000; val_acc: 0.580000\n",
      "(Iteration 7001 / 9800) loss: 1.383069\n",
      "(Iteration 7201 / 9800) loss: 1.506038\n",
      "(Iteration 7401 / 9800) loss: 1.514259\n",
      "(Iteration 7601 / 9800) loss: 1.020922\n",
      "(Iteration 7801 / 9800) loss: 1.225242\n",
      "(Epoch 8 / 10) train acc: 0.600000; val_acc: 0.564000\n",
      "(Iteration 8001 / 9800) loss: 1.438773\n",
      "(Iteration 8201 / 9800) loss: 1.534338\n",
      "(Iteration 8401 / 9800) loss: 1.402470\n",
      "(Iteration 8601 / 9800) loss: 1.237428\n",
      "(Iteration 8801 / 9800) loss: 1.431878\n",
      "(Epoch 9 / 10) train acc: 0.606000; val_acc: 0.561000\n",
      "(Iteration 9001 / 9800) loss: 1.413988\n",
      "(Iteration 9201 / 9800) loss: 1.342913\n",
      "(Iteration 9401 / 9800) loss: 1.362170\n",
      "(Iteration 9601 / 9800) loss: 1.203527\n",
      "(Epoch 10 / 10) train acc: 0.581000; val_acc: 0.545000\n"
     ]
    }
   ],
   "source": [
    "model = ThreeLayerConvolutionalNet(weight_scale=0.001, hidden_dim=500, reg=0.001)\n",
    "\n",
    "solver = Solver(model, data,\n",
    "                num_epochs=10, batch_size=50,\n",
    "                update_rule='adam',\n",
    "                optim_config={\n",
    "                  'learning_rate': 1e-3,\n",
    "                },\n",
    "                verbose=True, print_every=200)\n",
    "solver.train()"
   ]
  },
  {
   "cell_type": "markdown",
   "metadata": {},
   "source": [
    "## Visualisation des filtres\n",
    "Vous pouvez visualiser les filtres de la première couche du réseau entraîné :"
   ]
  },
  {
   "cell_type": "code",
   "execution_count": 39,
   "metadata": {},
   "outputs": [
    {
     "data": {
      "image/png": "[encoded data removed]",
      "text/plain": [
       "<Figure size 360x360 with 1 Axes>"
      ]
     },
     "metadata": {
      "needs_background": "light"
     },
     "output_type": "display_data"
    }
   ],
   "source": [
    "from ift725.vis_utils import visualize_grid\n",
    "\n",
    "grid = visualize_grid(model.params['W1'].transpose(0, 2, 3, 1))\n",
    "plt.imshow(grid.astype('uint8'))\n",
    "plt.axis('off')\n",
    "plt.gcf().set_size_inches(5, 5)\n",
    "plt.show()"
   ]
  },
  {
   "cell_type": "markdown",
   "metadata": {},
   "source": [
    "# Spatial Batch Normalization\n",
    "Nous avons vu que batch normalization est une technique fort untile pour entraîner un réseau pleinement connecté. La même technique peut être utilisée pour entrainée un CNN, mais avec quelques ajustements; c'est ce que nous appelons \"spatial batch normalization.\"\n",
    "\n",
    "De base, batch-norm prend en entrée un tenseur de taille `(N, D)` et produit en sortie un autre tenseur de taille `(N, D)` dont la normalisation est effectuée à travers le mini-batch de taill `N`.  Par contre, pour une couche convolutive, batch norma prend en entrée un tenseur de taille `(N, C, H, W)` et produit en sortie un autre tenseur de taille `(N, C, H, W)` où `N` est la taille du minibatch, `(H, W)` est la hauteur et la largeur du tenseur et `C` est le nombre de `feature maps`.\n",
    "\n",
    "Le spatial batch norm calcule une moyenne et une variance pour chaque feature map `C` à travers la dimension du mini-batch `N`, et les dimensions spatiales `H` et `W`."
   ]
  },
  {
   "cell_type": "markdown",
   "metadata": {},
   "source": [
    "## Spatial batch normalization: propagation avant\n",
    "\n",
    "Dans le fichier `ift725/layers.py`, la fonction `forward_spatial_batch_normalization` calcule la propagation avant du spatial batch norm. "
   ]
  },
  {
   "cell_type": "code",
   "execution_count": 40,
   "metadata": {},
   "outputs": [
    {
     "name": "stdout",
     "output_type": "stream",
     "text": [
      "Before spatial batch normalization:\n",
      "  Shape:  (2, 3, 4, 5)\n",
      "  Means:  [10.16991771  9.87618943 10.2268926 ]\n",
      "  Stds:  [3.56263164 3.46003545 3.9657193 ]\n",
      "After spatial batch normalization:\n",
      "  Shape:  (2, 3, 4, 5)\n",
      "  Means:  [ 7.52176099e-16  6.09234885e-16 -1.67921232e-16]\n",
      "  Stds:  [0.99999961 0.99999958 0.99999968]\n",
      "After spatial batch normalization (nontrivial gamma, beta):\n",
      "  Shape:  (2, 3, 4, 5)\n",
      "  Means:  [6. 7. 8.]\n",
      "  Stds:  [2.99999882 3.99999833 4.99999841]\n"
     ]
    }
   ],
   "source": [
    "# Check the training-time forward pass by checking means and variances\n",
    "# of features both before and after spatial batch normalization\n",
    "\n",
    "N, C, H, W = 2, 3, 4, 5\n",
    "x = 4 * np.random.randn(N, C, H, W) + 10\n",
    "\n",
    "print('Before spatial batch normalization:')\n",
    "print('  Shape: ', x.shape)\n",
    "print('  Means: ', x.mean(axis=(0, 2, 3)))\n",
    "print('  Stds: ', x.std(axis=(0, 2, 3)))\n",
    "\n",
    "# Means should be close to zero and stds close to one\n",
    "gamma, beta = np.ones(C), np.zeros(C)\n",
    "bn_param = {'mode': 'train'}\n",
    "out, _ = forward_spatial_batch_normalization(x, gamma, beta, bn_param)\n",
    "print('After spatial batch normalization:')\n",
    "print('  Shape: ', out.shape)\n",
    "print('  Means: ', out.mean(axis=(0, 2, 3)))\n",
    "print('  Stds: ', out.std(axis=(0, 2, 3)))\n",
    "\n",
    "# Means should be close to beta and stds close to gamma\n",
    "gamma, beta = np.asarray([3, 4, 5]), np.asarray([6, 7, 8])\n",
    "out, _ = forward_spatial_batch_normalization(x, gamma, beta, bn_param)\n",
    "print('After spatial batch normalization (nontrivial gamma, beta):')\n",
    "print('  Shape: ', out.shape)\n",
    "print('  Means: ', out.mean(axis=(0, 2, 3)))\n",
    "print('  Stds: ', out.std(axis=(0, 2, 3)))"
   ]
  },
  {
   "cell_type": "code",
   "execution_count": 41,
   "metadata": {},
   "outputs": [
    {
     "name": "stdout",
     "output_type": "stream",
     "text": [
      "After spatial batch normalization (test-time):\n",
      "  means:  [0.06671549 0.05381149 0.04685394 0.03802084]\n",
      "  stds:  [1.00952375 1.01732717 0.99914666 0.99223377]\n"
     ]
    }
   ],
   "source": [
    "# Check the test-time forward pass by running the training-time\n",
    "# forward pass many times to warm up the running averages, and then\n",
    "# checking the means and variances of activations after a test-time\n",
    "# forward pass.\n",
    "\n",
    "N, C, H, W = 10, 4, 11, 12\n",
    "\n",
    "bn_param = {'mode': 'train'}\n",
    "gamma = np.ones(C)\n",
    "beta = np.zeros(C)\n",
    "for t in range(50):\n",
    "  x = 2.3 * np.random.randn(N, C, H, W) + 13\n",
    "  forward_spatial_batch_normalization(x, gamma, beta, bn_param)\n",
    "bn_param['mode'] = 'test'\n",
    "x = 2.3 * np.random.randn(N, C, H, W) + 13\n",
    "a_norm, _ = forward_spatial_batch_normalization(x, gamma, beta, bn_param)\n",
    "\n",
    "# Means should be close to zero and stds close to one, but will be\n",
    "# noisier than training-time forward passes.\n",
    "print('After spatial batch normalization (test-time):')\n",
    "print('  means: ', a_norm.mean(axis=(0, 2, 3))) \n",
    "print('  stds: ', a_norm.std(axis=(0, 2, 3)))"
   ]
  },
  {
   "cell_type": "markdown",
   "metadata": {},
   "source": [
    "## Spatial batch normalization: rétro-propagation\n",
    "Dans le fichier `ift725/layers.py`, la fonction `backward_spatial_batch_normalization` implémente la rétro-propagation de cette couche."
   ]
  },
  {
   "cell_type": "code",
   "execution_count": 42,
   "metadata": {},
   "outputs": [
    {
     "name": "stdout",
     "output_type": "stream",
     "text": [
      "dx error:  1.8940063929365876e-08\n",
      "dgamma error:  2.1860670358615636e-11\n",
      "dbeta error:  3.2756653198751872e-12\n"
     ]
    }
   ],
   "source": [
    "N, C, H, W = 2, 3, 4, 5\n",
    "x = 5 * np.random.randn(N, C, H, W) + 12\n",
    "gamma = np.random.randn(C)\n",
    "beta = np.random.randn(C)\n",
    "dout = np.random.randn(N, C, H, W)\n",
    "\n",
    "bn_param = {'mode': 'train'}\n",
    "fx = lambda x: forward_spatial_batch_normalization(x, gamma, beta, bn_param)[0]\n",
    "fg = lambda a: forward_spatial_batch_normalization(x, gamma, beta, bn_param)[0]\n",
    "fb = lambda b: forward_spatial_batch_normalization(x, gamma, beta, bn_param)[0]\n",
    "\n",
    "dx_num = eval_numerical_gradient_array(fx, x, dout)\n",
    "da_num = eval_numerical_gradient_array(fg, gamma, dout)\n",
    "db_num = eval_numerical_gradient_array(fb, beta, dout)\n",
    "\n",
    "_, cache = forward_spatial_batch_normalization(x, gamma, beta, bn_param)\n",
    "dx, dgamma, dbeta = backward_spatial_batch_normalization(dout, cache)\n",
    "print('dx error: ', rel_error(dx_num, dx))\n",
    "print('dgamma error: ', rel_error(da_num, dgamma))\n",
    "print('dbeta error: ', rel_error(db_num, dbeta))"
   ]
  },
  {
   "cell_type": "markdown",
   "metadata": {},
   "source": [
    "# Points bonus\n",
    "**10% de bonus** si vous proposez une nouvelle classe permettant d'entraîner un réseau comme celui-ci\n",
    "\n",
    "**([conv-relu-bn]xN1-[pool])xN2 - [FC-relu]xM - [softmax]**\n",
    "\n",
    "où *N1>=2, N2>=3* et *M>=2* et avec du *dropout*.  Le réseau doit être constitué de couches *combo*.  Votre code doit être dans les fichiers `ift725/classifiers/mycnn.py` (qu'il vous faudra créer) et `ift725/layer_combo.py`.\n",
    "\n",
    "### Autre bonus:\n",
    "**10% de bonus** si votre architecture est modulaire, c'est-à-dire que les valeurs *N1*, *N2* et *M* ne sont pas *hardcodées* mais peuvent être spécifiées dans le constructeur de la classe.\n",
    "\n",
    "Amusez-vous bien!"
   ]
  },
  {
   "cell_type": "code",
   "execution_count": null,
   "metadata": {},
   "outputs": [],
   "source": [
    "# Train a really good model on CIFAR-10\n",
    "# default N1 = 2, N2 = 3, M = 2\n",
    "model = MultiLayerConvNet(weight_scale=0.001, hidden_dim=500, reg=0.001)\n",
    "\n",
    "solver = Solver(model, data,\n",
    "                num_epochs=10, batch_size=50,\n",
    "                update_rule='adam',\n",
    "                optim_config={\n",
    "                  'learning_rate': 1e-3,\n",
    "                },\n",
    "                verbose=True, print_every=200)\n",
    "solver.train()"
   ]
  }
 ],
 "metadata": {
  "anaconda-cloud": {},
  "kernelspec": {
   "display_name": "Python 3",
   "language": "python",
   "name": "python3"
  },
  "language_info": {
   "codemirror_mode": {
    "name": "ipython",
    "version": 3
   },
   "file_extension": ".py",
   "mimetype": "text/x-python",
   "name": "python",
   "nbconvert_exporter": "python",
   "pygments_lexer": "ipython3",
   "version": "3.7.3"
  }
 },
 "nbformat": 4,
 "nbformat_minor": 1
}
